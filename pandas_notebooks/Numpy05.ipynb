{
  "nbformat": 4,
  "nbformat_minor": 0,
  "metadata": {
    "colab": {
      "provenance": [],
      "authorship_tag": "ABX9TyMO3GbAlaPNUI/ZfVRn91/M",
      "include_colab_link": true
    },
    "kernelspec": {
      "name": "python3",
      "display_name": "Python 3"
    },
    "language_info": {
      "name": "python"
    }
  },
  "cells": [
    {
      "cell_type": "markdown",
      "metadata": {
        "id": "view-in-github",
        "colab_type": "text"
      },
      "source": [
        "<a href=\"https://colab.research.google.com/github/Shisiajoy/PYTHON-DATA-ANALYSIS/blob/main/Numpy05.ipynb\" target=\"_parent\"><img src=\"https://colab.research.google.com/assets/colab-badge.svg\" alt=\"Open In Colab\"/></a>"
      ]
    },
    {
      "cell_type": "markdown",
      "source": [
        "Find the nearest value from a given value in an array"
      ],
      "metadata": {
        "id": "wYiJX6gxoOJO"
      }
    },
    {
      "cell_type": "code",
      "source": [
        "import numpy as np\n",
        "\n",
        "# Create an example array\n",
        "array = np.array([1, 3, 5, 7, 9, 11])\n",
        "\n",
        "# Given value\n",
        "given_value = 6\n",
        "\n",
        "# Find the nearest value in the array\n",
        "nearest_value = array[np.abs(array - given_value).argmin()]\n",
        "\n",
        "# Print the result\n",
        "print(f\"The nearest value to {given_value} in the array is {nearest_value}.\")\n"
      ],
      "metadata": {
        "colab": {
          "base_uri": "https://localhost:8080/"
        },
        "id": "Fib20Yy3oSqd",
        "outputId": "b69acfae-1ff6-4942-f78f-66d2d66a62f0"
      },
      "execution_count": 1,
      "outputs": [
        {
          "output_type": "stream",
          "name": "stdout",
          "text": [
            "The nearest value to 6 in the array is 5.\n"
          ]
        }
      ]
    },
    {
      "cell_type": "markdown",
      "source": [
        "Considering two arrays with shape (1,3) and (3,1), how to compute their sum using an iterator?"
      ],
      "metadata": {
        "id": "69sMFsKjo75M"
      }
    },
    {
      "cell_type": "code",
      "source": [
        "import numpy as np\n",
        "\n",
        "# Create two arrays with shapes (1,3) and (3,1)\n",
        "array1 = np.array([[1, 2, 3]])\n",
        "array2 = np.array([[4], [5], [6]])\n",
        "\n",
        "# Initialize the sum\n",
        "total_sum = 0\n",
        "\n",
        "# Create an iterator for array1 and array2\n",
        "it1 = np.nditer(array1)\n",
        "it2 = np.nditer(array2)\n",
        "\n",
        "# Iterate over the elements and compute the sum\n",
        "while not it1.finished and not it2.finished:\n",
        "    total_sum += it1[0] + it2[0]\n",
        "    it1.iternext()\n",
        "    it2.iternext()\n",
        "\n",
        "# Print the total sum\n",
        "print(\"Sum of the two arrays:\", total_sum)\n"
      ],
      "metadata": {
        "colab": {
          "base_uri": "https://localhost:8080/"
        },
        "id": "0hl83b7moulT",
        "outputId": "6fe0ac79-a15a-4d98-ac08-534115ecacd2"
      },
      "execution_count": 2,
      "outputs": [
        {
          "output_type": "stream",
          "name": "stdout",
          "text": [
            "Sum of the two arrays: 21\n"
          ]
        }
      ]
    },
    {
      "cell_type": "markdown",
      "source": [
        " Create an array class that has a name attribute"
      ],
      "metadata": {
        "id": "ekjkfugypp-N"
      }
    },
    {
      "cell_type": "code",
      "source": [
        "class Array:\n",
        "    def __init__(self, name, data):\n",
        "        self.name = name\n",
        "        self.data = data\n",
        "\n",
        "# Example usage\n",
        "my_array = Array(name=\"My Custom Array\", data=[1, 2, 3, 4, 5])\n",
        "\n",
        "# Access the name and data attributes\n",
        "print(f\"Array Name: {my_array.name}\")\n",
        "print(f\"Array Data: {my_array.data}\")\n"
      ],
      "metadata": {
        "colab": {
          "base_uri": "https://localhost:8080/"
        },
        "id": "YKZnRAlwpgF8",
        "outputId": "0564a374-c0ee-457d-8090-1888ac24cb7d"
      },
      "execution_count": 1,
      "outputs": [
        {
          "output_type": "stream",
          "name": "stdout",
          "text": [
            "Array Name: My Custom Array\n",
            "Array Data: [1, 2, 3, 4, 5]\n"
          ]
        }
      ]
    },
    {
      "cell_type": "markdown",
      "source": [
        "Consider a given vector, how to add 1 to each element indexed by a second vector (be careful with repeated indices)?"
      ],
      "metadata": {
        "id": "L9rF8xJNY3vj"
      }
    },
    {
      "cell_type": "code",
      "source": [
        "import numpy as np\n",
        "\n",
        "def add_one_to_elements(vector, indices):\n",
        "\n",
        "    # Create a copy of the input vector to avoid modifying the original\n",
        "    updated_vector = np.copy(vector)\n",
        "\n",
        "    # Add 1 to the elements indexed by the second vector\n",
        "    np.add.at(updated_vector, indices, 1)\n",
        "\n",
        "    return updated_vector\n",
        "\n",
        "# Example usage\n",
        "given_vector = np.array([10, 20, 30, 40, 50])\n",
        "indices_to_update = np.array([1, 3])\n",
        "\n",
        "updated_vector = add_one_to_elements(given_vector, indices_to_update)\n",
        "\n",
        "print(\"Given Vector:\", given_vector)\n",
        "print(\"Indices to Update:\", indices_to_update)\n",
        "print(\"Updated Vector:\", updated_vector)\n"
      ],
      "metadata": {
        "colab": {
          "base_uri": "https://localhost:8080/"
        },
        "id": "_fAFaqMwYuVM",
        "outputId": "618602df-99a1-4903-ef6b-886994232fe7"
      },
      "execution_count": 3,
      "outputs": [
        {
          "output_type": "stream",
          "name": "stdout",
          "text": [
            "Given Vector: [10 20 30 40 50]\n",
            "Indices to Update: [1 3]\n",
            "Updated Vector: [10 21 30 41 50]\n"
          ]
        }
      ]
    },
    {
      "cell_type": "markdown",
      "source": [
        "How to accumulate elements of a vector (X) to an array (F) based on an index list (I)?"
      ],
      "metadata": {
        "id": "iDayeyTBZxgE"
      }
    },
    {
      "cell_type": "code",
      "source": [
        "import numpy as np\n",
        "\n",
        "# Example data\n",
        "X = np.array([1, 2, 3, 4, 5])  # Vector X\n",
        "I = np.array([0, 1, 2, 0, 1])  # Index list I\n",
        "N = len(X)  # Length of vector X\n",
        "\n",
        "# Initialize array F with zeros\n",
        "F = np.zeros(N)\n",
        "\n",
        "# Accumulate elements of X into F based on index list I\n",
        "np.add.at(F, I, X)\n",
        "\n",
        "print(\"Vector X:\", X)\n",
        "print(\"Index list I:\", I)\n",
        "print(\"Accumulated array F:\", F)\n"
      ],
      "metadata": {
        "colab": {
          "base_uri": "https://localhost:8080/"
        },
        "id": "tkXnfe00bFrK",
        "outputId": "a6fd8ec8-9693-4ebc-fb9a-9e990ca7001c"
      },
      "execution_count": 7,
      "outputs": [
        {
          "output_type": "stream",
          "name": "stdout",
          "text": [
            "Vector X: [1 2 3 4 5]\n",
            "Index list I: [0 1 2 0 1]\n",
            "Accumulated array F: [5. 7. 3. 0. 0.]\n"
          ]
        }
      ]
    },
    {
      "cell_type": "markdown",
      "source": [
        " Considering a (w,h,3) image of (dtype=ubyte), compute the number of unique colors"
      ],
      "metadata": {
        "id": "W0SE6B4YcGN0"
      }
    },
    {
      "cell_type": "code",
      "source": [
        "import numpy as np\n",
        "\n",
        "# Assuming 'image' is your (w, h, 3) image array\n",
        "# Example image data (replace this with your image data)\n",
        "w, h = 100, 100  # Image width and height\n",
        "image = np.random.randint(0, 256, size=(w, h, 3), dtype=np.uint8)  # Example random image\n",
        "\n",
        "# Reshape the image to have a shape of (w * h, 3)\n",
        "reshaped_image = image.reshape(-1, 3)\n",
        "\n",
        "# Compute unique colors\n",
        "unique_colors = np.unique(reshaped_image, axis=0)\n",
        "\n",
        "# Number of unique colors\n",
        "num_unique_colors = unique_colors.shape[0]\n",
        "\n",
        "print(\"Number of unique colors:\", num_unique_colors)\n",
        "\n",
        "\n"
      ],
      "metadata": {
        "colab": {
          "base_uri": "https://localhost:8080/"
        },
        "id": "plYx0rsGcrHo",
        "outputId": "19deefa2-2d21-49df-e5b1-bf02ecc54c9b"
      },
      "execution_count": 9,
      "outputs": [
        {
          "output_type": "stream",
          "name": "stdout",
          "text": [
            "Number of unique colors: 9997\n"
          ]
        }
      ]
    },
    {
      "cell_type": "markdown",
      "source": [
        "Considering a four dimensions array, how to get sum over the last two axis at once?"
      ],
      "metadata": {
        "id": "gTi1FAmOdDc7"
      }
    },
    {
      "cell_type": "code",
      "source": [
        "import numpy as np\n",
        "\n",
        "# Assuming 'array' is your four-dimensional array\n",
        "# Example array data (replace this with your array data)\n",
        "shape = (2, 3, 4, 5)  # Example shape of the array\n",
        "array = np.random.randint(0, 10, size=shape)  # Example random array\n",
        "\n",
        "# Sum over the last two axes\n",
        "sum_last_two_axes = np.sum(array, axis=(-2, -1))\n",
        "\n",
        "print(\"Sum over the last two axes:\")\n",
        "print(sum_last_two_axes)\n"
      ],
      "metadata": {
        "colab": {
          "base_uri": "https://localhost:8080/"
        },
        "id": "ePPzYRqwdo1Z",
        "outputId": "c60b7d0d-5ffe-4bf5-9795-4f0a9309659a"
      },
      "execution_count": 11,
      "outputs": [
        {
          "output_type": "stream",
          "name": "stdout",
          "text": [
            "Sum over the last two axes:\n",
            "[[ 83  92  90]\n",
            " [116 103  63]]\n"
          ]
        }
      ]
    },
    {
      "cell_type": "markdown",
      "source": [
        "Considering a one-dimensional vector D, how to compute means of subsets of D using a vector S of same size describing subset indices?"
      ],
      "metadata": {
        "id": "XPWpqZEPesRO"
      }
    },
    {
      "cell_type": "code",
      "source": [
        "import numpy as np\n",
        "\n",
        "# Example data (replace with your actual data)\n",
        "D = np.array([1, 2, 3, 4, 5, 6, 7, 8, 9, 10])  # One-dimensional vector\n",
        "S = np.array([0, 0, 1, 1, 2, 2, 3, 3, 4, 4])  # Subset indices vector\n",
        "\n",
        "# Find unique subset indices\n",
        "unique_indices = np.unique(S)\n",
        "\n",
        "# Compute means of subsets\n",
        "subset_means = [np.mean(D[S == idx]) for idx in unique_indices]\n",
        "\n",
        "print(\"Means of subsets:\")\n",
        "print(subset_means)\n"
      ],
      "metadata": {
        "colab": {
          "base_uri": "https://localhost:8080/"
        },
        "id": "ys1qK0nWemY2",
        "outputId": "b3aaa787-c491-450a-99b4-d1108f9e155f"
      },
      "execution_count": 12,
      "outputs": [
        {
          "output_type": "stream",
          "name": "stdout",
          "text": [
            "Means of subsets:\n",
            "[1.5, 3.5, 5.5, 7.5, 9.5]\n"
          ]
        }
      ]
    },
    {
      "cell_type": "markdown",
      "source": [
        "How to get the diagonal of a dot product?"
      ],
      "metadata": {
        "id": "Mj1ZnJCXfHzp"
      }
    },
    {
      "cell_type": "code",
      "source": [
        "import numpy as np\n",
        "\n",
        "# Example matrices (replace with your actual matrices)\n",
        "A = np.array([[1, 2], [3, 4]])  # First matrix\n",
        "B = np.array([[5, 6], [7, 8]])  # Second matrix\n",
        "\n",
        "# Compute the dot product\n",
        "dot_product = np.dot(A, B)\n",
        "\n",
        "# Get the diagonal of the dot product\n",
        "diagonal = np.diag(dot_product)\n",
        "\n",
        "print(\"Diagonal of the dot product:\")\n",
        "print(diagonal)\n"
      ],
      "metadata": {
        "colab": {
          "base_uri": "https://localhost:8080/"
        },
        "id": "onVTufyae886",
        "outputId": "5a4e83a5-e97a-4541-a624-a8f151ee1b0e"
      },
      "execution_count": 13,
      "outputs": [
        {
          "output_type": "stream",
          "name": "stdout",
          "text": [
            "Diagonal of the dot product:\n",
            "[19 50]\n"
          ]
        }
      ]
    },
    {
      "cell_type": "markdown",
      "source": [
        "Consider the vector [1, 2, 3, 4, 5], how to build a new vector with 3 consecutive zeros interleaved between each value?"
      ],
      "metadata": {
        "id": "8CJGHwaAfWIL"
      }
    },
    {
      "cell_type": "code",
      "source": [
        "import numpy as np\n",
        "\n",
        "# Given vector\n",
        "vector = np.array([1, 2, 3, 4, 5])\n",
        "\n",
        "# Build new vector with interleaved zeros\n",
        "new_vector = np.zeros(len(vector) + (len(vector) - 1) * 3)  # Initialize with zeros\n",
        "\n",
        "# Assign values from original vector to new vector with interleaved zeros\n",
        "new_vector[::4] = vector\n",
        "\n",
        "print(\"New vector with interleaved zeros:\")\n",
        "print(new_vector)\n"
      ],
      "metadata": {
        "colab": {
          "base_uri": "https://localhost:8080/"
        },
        "id": "3JDdj8L1fQpv",
        "outputId": "c04f3f4c-6ec9-4c5f-a135-9de62ad6c29d"
      },
      "execution_count": 14,
      "outputs": [
        {
          "output_type": "stream",
          "name": "stdout",
          "text": [
            "New vector with interleaved zeros:\n",
            "[1. 0. 0. 0. 2. 0. 0. 0. 3. 0. 0. 0. 4. 0. 0. 0. 5.]\n"
          ]
        }
      ]
    },
    {
      "cell_type": "markdown",
      "source": [
        "Consider an array of dimension (5,5,3), how to mulitply it by an array with dimensions (5,5)?"
      ],
      "metadata": {
        "id": "aYjJ00MufvHw"
      }
    },
    {
      "cell_type": "code",
      "source": [
        "import numpy as np\n",
        "\n",
        "# Create arrays\n",
        "array_3d = np.random.rand(5, 5, 3)  # Array of dimension (5, 5, 3)\n",
        "array_2d = np.random.rand(5, 5)     # Array of dimension (5, 5)\n",
        "\n",
        "# Multiply arrays element-wise\n",
        "result = array_3d * array_2d[:, :, np.newaxis]\n",
        "\n",
        "# Print result\n",
        "print(\"Resultant array:\")\n",
        "print(result)\n"
      ],
      "metadata": {
        "colab": {
          "base_uri": "https://localhost:8080/"
        },
        "id": "_6X_ScM_fnvj",
        "outputId": "f2f414ae-ecce-44f5-cc8c-af6148138624"
      },
      "execution_count": 15,
      "outputs": [
        {
          "output_type": "stream",
          "name": "stdout",
          "text": [
            "Resultant array:\n",
            "[[[0.21104565 0.1148618  0.17110304]\n",
            "  [0.14506141 0.28317359 0.37185235]\n",
            "  [0.56937036 0.61671668 0.71813941]\n",
            "  [0.01530047 0.04858287 0.0714639 ]\n",
            "  [0.04123885 0.05409122 0.00677498]]\n",
            "\n",
            " [[0.03613396 0.0658563  0.02195337]\n",
            "  [0.04988519 0.0228652  0.15286956]\n",
            "  [0.93482678 0.39545535 0.64996799]\n",
            "  [0.02635483 0.37367792 0.04195674]\n",
            "  [0.17201025 0.22201666 0.1527648 ]]\n",
            "\n",
            " [[0.68789739 0.27923543 0.71240604]\n",
            "  [0.05515266 0.26159719 0.18913566]\n",
            "  [0.6422496  0.21640353 0.32977221]\n",
            "  [0.75898591 0.54110867 0.78856267]\n",
            "  [0.22488896 0.11810627 0.25307028]]\n",
            "\n",
            " [[0.27618013 0.03867409 0.3429164 ]\n",
            "  [0.06276875 0.09575557 0.03391466]\n",
            "  [0.04327618 0.09242045 0.02459735]\n",
            "  [0.49659063 0.02671477 0.53959657]\n",
            "  [0.11590942 0.46621429 0.50306993]]\n",
            "\n",
            " [[0.20090712 0.50500779 0.18281301]\n",
            "  [0.12723916 0.19278547 0.27378271]\n",
            "  [0.6376654  0.21688989 0.31416992]\n",
            "  [0.37530547 0.87012337 0.09674023]\n",
            "  [0.65753212 0.28074574 0.65813931]]]\n"
          ]
        }
      ]
    },
    {
      "cell_type": "markdown",
      "source": [
        "How to swap two rows of an array?"
      ],
      "metadata": {
        "id": "DnClIosLhIxN"
      }
    },
    {
      "cell_type": "code",
      "source": [
        "import numpy as np\n",
        "\n",
        "# Create a sample array\n",
        "arr = np.array([[1, 2, 3],\n",
        "                [4, 5, 6],\n",
        "                [7, 8, 9]])\n",
        "\n",
        "# Swap rows 0 and 1\n",
        "arr[0], arr[1] = arr[1], arr[0]\n",
        "\n",
        "print(\"Array after swapping rows:\")\n",
        "print(arr)\n"
      ],
      "metadata": {
        "colab": {
          "base_uri": "https://localhost:8080/"
        },
        "id": "-xvaAnWAf9D4",
        "outputId": "2be7f19d-5acb-4409-e2ca-17e1d8c22554"
      },
      "execution_count": 16,
      "outputs": [
        {
          "output_type": "stream",
          "name": "stdout",
          "text": [
            "Array after swapping rows:\n",
            "[[4 5 6]\n",
            " [4 5 6]\n",
            " [7 8 9]]\n"
          ]
        }
      ]
    },
    {
      "cell_type": "markdown",
      "source": [
        "Consider a set of 10 triplets describing 10 triangles (with shared vertices), find the set of unique line segments composing all the triangles"
      ],
      "metadata": {
        "id": "McoowyMkheR7"
      }
    },
    {
      "cell_type": "code",
      "source": [
        "# Given 10 triplets describing 10 triangles (with shared vertices)\n",
        "triangles = [\n",
        "    [(0, 1), (1, 2), (2, 0)],  # Triangle 1\n",
        "    [(1, 2), (2, 3), (3, 1)],  # Triangle 2\n",
        "    # ... (other triangles)\n",
        "]\n",
        "\n",
        "# Create an empty set to store unique line segments\n",
        "unique_segments = set()\n",
        "\n",
        "# Iterate over each triangle\n",
        "for triangle in triangles:\n",
        "    for edge in triangle:\n",
        "        # Sort the vertices to ensure consistent representation of the segment\n",
        "        segment = tuple(sorted(edge))\n",
        "        unique_segments.add(segment)\n",
        "\n",
        "# Print the unique line segments\n",
        "for segment in unique_segments:\n",
        "    print(f\"Line segment: {segment}\")\n"
      ],
      "metadata": {
        "colab": {
          "base_uri": "https://localhost:8080/"
        },
        "id": "pgl2Y0F9iJnc",
        "outputId": "1e19cbb4-c6d5-4100-fca9-0c14399b8847"
      },
      "execution_count": 19,
      "outputs": [
        {
          "output_type": "stream",
          "name": "stdout",
          "text": [
            "Line segment: (0, 1)\n",
            "Line segment: (1, 2)\n",
            "Line segment: (2, 3)\n",
            "Line segment: (0, 2)\n",
            "Line segment: (1, 3)\n"
          ]
        }
      ]
    },
    {
      "cell_type": "markdown",
      "source": [
        "Given a sorted array C that corresponds to a bincount, how to produce an array A such that np.bincount(A) == C?"
      ],
      "metadata": {
        "id": "wegyDMRFifoU"
      }
    },
    {
      "cell_type": "code",
      "source": [
        "import numpy as np\n",
        "\n",
        "def create_array_from_bincount(bincount_array):\n",
        "    # Initialize an empty list to store the indices\n",
        "    indices = []\n",
        "\n",
        "    # Iterate over the bincount array\n",
        "    for i, count in enumerate(bincount_array):\n",
        "        # Append the index i to the list count times\n",
        "        indices.extend([i] * count)\n",
        "\n",
        "    # Convert the list of indices to a NumPy array\n",
        "    result_array = np.array(indices)\n",
        "\n",
        "    return result_array\n",
        "\n",
        "# Example usage\n",
        "C = np.array([0, 2, 3, 0, 1])\n",
        "A = create_array_from_bincount(C)\n",
        "\n",
        "print(f\"Original bincount array C: {C}\")\n",
        "print(f\"Generated array A: {A}\")\n",
        "print(f\"Result of np.bincount(A): {np.bincount(A)}\")\n"
      ],
      "metadata": {
        "colab": {
          "base_uri": "https://localhost:8080/"
        },
        "id": "dPRA5W0_idZR",
        "outputId": "32f92e24-4215-4795-9db0-074b6a5680ed"
      },
      "execution_count": 20,
      "outputs": [
        {
          "output_type": "stream",
          "name": "stdout",
          "text": [
            "Original bincount array C: [0 2 3 0 1]\n",
            "Generated array A: [1 1 2 2 2 4]\n",
            "Result of np.bincount(A): [0 2 3 0 1]\n"
          ]
        }
      ]
    },
    {
      "cell_type": "markdown",
      "source": [
        "How to compute averages using a sliding window over an array?"
      ],
      "metadata": {
        "id": "AxTzJHS0i0bb"
      }
    },
    {
      "cell_type": "code",
      "source": [
        "import numpy as np\n",
        "\n",
        "def sliding_window_average(arr, window_size):\n",
        "\n",
        "    if window_size <= 0:\n",
        "        raise ValueError(\"Window size must be positive.\")\n",
        "\n",
        "    # Initialize an empty array to store the averages\n",
        "    averages = np.zeros(len(arr) - window_size + 1)\n",
        "\n",
        "    # Compute the initial sum for the first window\n",
        "    window_sum = np.sum(arr[:window_size])\n",
        "\n",
        "    # Compute the average for the first window\n",
        "    averages[0] = window_sum / window_size\n",
        "\n",
        "    # Slide the window and update the sum and average\n",
        "    for i in range(1, len(arr) - window_size + 1):\n",
        "        window_sum += arr[i + window_size - 1] - arr[i - 1]\n",
        "        averages[i] = window_sum / window_size\n",
        "\n",
        "    return averages\n",
        "\n",
        "# Example usage\n",
        "input_array = np.array([1, 2, 3, 4, 5, 6, 7, 8, 9, 10])\n",
        "window_size = 3\n",
        "result = sliding_window_average(input_array, window_size)\n",
        "\n",
        "print(f\"Input array: {input_array}\")\n",
        "print(f\"Sliding window average (window size {window_size}): {result}\")\n"
      ],
      "metadata": {
        "colab": {
          "base_uri": "https://localhost:8080/"
        },
        "id": "_QS4e7Fhiy31",
        "outputId": "0cb047c6-f894-4c11-ebdb-72b560491f1e"
      },
      "execution_count": 21,
      "outputs": [
        {
          "output_type": "stream",
          "name": "stdout",
          "text": [
            "Input array: [ 1  2  3  4  5  6  7  8  9 10]\n",
            "Sliding window average (window size 3): [2. 3. 4. 5. 6. 7. 8. 9.]\n"
          ]
        }
      ]
    },
    {
      "cell_type": "markdown",
      "source": [
        "Consider a one-dimensional array Z, build a two-dimensional array whose first row is (Z[0],Z[1],Z[2]) and each subsequent row is shifted by 1 (last row should be (Z[-3],Z[-2],Z[-1])"
      ],
      "metadata": {
        "id": "bCe3Hpk6jR4c"
      }
    },
    {
      "cell_type": "code",
      "source": [
        "import numpy as np\n",
        "\n",
        "def build_shifted_array(Z):\n",
        "    # Initialize an empty 2D array\n",
        "    rows = len(Z) - 2\n",
        "    cols = 3\n",
        "    result_array = np.zeros((rows, cols))\n",
        "\n",
        "    # Fill the array with shifted rows\n",
        "    for i in range(rows):\n",
        "        result_array[i] = Z[i:i+3]\n",
        "\n",
        "    return result_array\n",
        "\n",
        "# Example usage\n",
        "Z = np.array([1, 2, 3, 4, 5, 6, 7])\n",
        "result = build_shifted_array(Z)\n",
        "\n",
        "print(f\"One-dimensional array Z: {Z}\")\n",
        "print(f\"Two-dimensional shifted array:\\n{result}\")\n"
      ],
      "metadata": {
        "colab": {
          "base_uri": "https://localhost:8080/"
        },
        "id": "Are4l0gJjK00",
        "outputId": "e9d983c9-9e0c-4b1b-d279-8880c3d49ec9"
      },
      "execution_count": 22,
      "outputs": [
        {
          "output_type": "stream",
          "name": "stdout",
          "text": [
            "One-dimensional array Z: [1 2 3 4 5 6 7]\n",
            "Two-dimensional shifted array:\n",
            "[[1. 2. 3.]\n",
            " [2. 3. 4.]\n",
            " [3. 4. 5.]\n",
            " [4. 5. 6.]\n",
            " [5. 6. 7.]]\n"
          ]
        }
      ]
    },
    {
      "cell_type": "markdown",
      "source": [
        "How to negate a boolean, or to change the sign of a float inplace?"
      ],
      "metadata": {
        "id": "cX2Rpvk7jnhz"
      }
    },
    {
      "cell_type": "code",
      "source": [
        "# Negate a boolean\n",
        "boolean_value = True\n",
        "boolean_value = not boolean_value\n",
        "print(\"Negated boolean:\", boolean_value)\n",
        "\n",
        "# Change the sign of a float inplace\n",
        "float_value = 3.5\n",
        "float_value *= -1\n",
        "print(\"Float with changed sign:\", float_value)\n"
      ],
      "metadata": {
        "colab": {
          "base_uri": "https://localhost:8080/"
        },
        "id": "E9A8KbfYjh3K",
        "outputId": "fd6a8f58-95e2-4208-e3b1-c744e5993350"
      },
      "execution_count": 23,
      "outputs": [
        {
          "output_type": "stream",
          "name": "stdout",
          "text": [
            "Negated boolean: False\n",
            "Float with changed sign: -3.5\n"
          ]
        }
      ]
    },
    {
      "cell_type": "markdown",
      "source": [
        "Consider 2 sets of points P0,P1 describing lines (2d) and a point p, how to compute distance from p to each line i (P0[i],P1[i])?"
      ],
      "metadata": {
        "id": "nkjIbhQTkBfG"
      }
    },
    {
      "cell_type": "code",
      "source": [
        "import numpy as np\n",
        "\n",
        "def distance_to_line_segment(P0, P1, p):\n",
        "    # Compute vector v from P0 to P1\n",
        "    v = P1 - P0\n",
        "\n",
        "    # Compute vector w from P0 to p\n",
        "    w = p - P0\n",
        "\n",
        "    # Compute the dot product of v and w\n",
        "    dot_product = np.dot(w, v)\n",
        "\n",
        "    # Compute the squared length of v\n",
        "    v_squared_length = np.dot(v, v)\n",
        "\n",
        "    # Compute the projection parameter t\n",
        "    t = dot_product / v_squared_length\n",
        "\n",
        "    # Clamp t to the interval [0, 1]\n",
        "    t = np.clip(t, 0, 1)\n",
        "\n",
        "    # Compute the closest point q on the line segment to p\n",
        "    q = P0 + t * v\n",
        "\n",
        "    # Compute the distance from p to q\n",
        "    distance = np.linalg.norm(p - q)\n",
        "\n",
        "    return distance\n",
        "\n",
        "# Example usage\n",
        "P0 = np.array([[1, 1], [2, 2], [3, 3]])  # Starting points of line segments\n",
        "P1 = np.array([[4, 4], [5, 5], [6, 6]])  # Ending points of line segments\n",
        "p = np.array([3, 2])  # Point p\n",
        "distances = [distance_to_line_segment(P0[i], P1[i], p) for i in range(len(P0))]\n",
        "print(\"Distances from p to each line segment:\", distances)\n"
      ],
      "metadata": {
        "colab": {
          "base_uri": "https://localhost:8080/"
        },
        "id": "jbXF0BI0kXfC",
        "outputId": "d403e7cf-6f7e-43db-d436-ac26b20e9412"
      },
      "execution_count": 26,
      "outputs": [
        {
          "output_type": "stream",
          "name": "stdout",
          "text": [
            "Distances from p to each line segment: [0.7071067811865476, 0.7071067811865476, 1.0]\n"
          ]
        }
      ]
    },
    {
      "cell_type": "markdown",
      "source": [
        "Consider an arbitrary array, write a function that extract a subpart with a fixed shape and centered on a given element (pad with a fill value when necessary)"
      ],
      "metadata": {
        "id": "hXFGbRtDkuiR"
      }
    },
    {
      "cell_type": "code",
      "source": [
        "import numpy as np\n",
        "\n",
        "def extract_subpart(arr, center, shape, fill_value=0):\n",
        "\n",
        "    # Ensure center and shape are tuples or lists\n",
        "    center = tuple(center)\n",
        "    shape = tuple(shape)\n",
        "\n",
        "    # Compute half shape\n",
        "    half_shape = tuple(s // 2 for s in shape)\n",
        "\n",
        "    # Compute slice indices\n",
        "    slices = tuple(slice(c - hs, c + hs) for c, hs in zip(center, half_shape))\n",
        "\n",
        "    # Initialize the subpart with fill_value\n",
        "    subpart = np.full(shape, fill_value)\n",
        "\n",
        "    # Compute valid slice indices\n",
        "    valid_slices = tuple(slice(max(0, s.start), min(s.stop, arr.shape[i])) for i, s in enumerate(slices))\n",
        "\n",
        "    # Copy valid portion from the input array to the subpart\n",
        "    subpart[valid_slices] = arr[slices]\n",
        "\n",
        "    return subpart\n",
        "\n",
        "# Example usage\n",
        "input_array = np.array([[1, 2, 3, 4],\n",
        "                        [5, 6, 7, 8],\n",
        "                        [9, 10, 11, 12]])\n",
        "\n",
        "center_element = (1, 2)\n",
        "subpart_shape = (3, 3)\n",
        "\n",
        "subpart = extract_subpart(input_array, center_element, subpart_shape, fill_value=-1)\n",
        "print(\"Input array:\")\n",
        "print(input_array)\n",
        "print(\"\\nExtracted subpart:\")\n",
        "print(subpart)\n"
      ],
      "metadata": {
        "colab": {
          "base_uri": "https://localhost:8080/"
        },
        "id": "LjkIxE9_kdqe",
        "outputId": "e13d95ed-68a2-41a9-c1f2-7a7440fe7ec0"
      },
      "execution_count": 27,
      "outputs": [
        {
          "output_type": "stream",
          "name": "stdout",
          "text": [
            "Input array:\n",
            "[[ 1  2  3  4]\n",
            " [ 5  6  7  8]\n",
            " [ 9 10 11 12]]\n",
            "\n",
            "Extracted subpart:\n",
            "[[-1  2  3]\n",
            " [-1  6  7]\n",
            " [-1 -1 -1]]\n"
          ]
        }
      ]
    },
    {
      "cell_type": "markdown",
      "source": [
        " Consider an array Z = [1,2,3,4,5,6,7,8,9,10,11,12,13,14], how to generate an array R = [[1,2,3,4], [2,3,4,5], [3,4,5,6], ..., [11,12,13,14]]?"
      ],
      "metadata": {
        "id": "k82CKwjSlKNs"
      }
    },
    {
      "cell_type": "code",
      "source": [
        "import numpy as np\n",
        "\n",
        "# Given array Z\n",
        "Z = np.array([1, 2, 3, 4, 5, 6, 7, 8, 9, 10, 11, 12, 13, 14])\n",
        "\n",
        "# Define the desired subarray shape\n",
        "subarray_shape = (4,)\n",
        "\n",
        "# Initialize an empty list to store subarrays\n",
        "subarrays = []\n",
        "\n",
        "# Generate subarrays\n",
        "for i in range(len(Z) - subarray_shape[0] + 1):\n",
        "    subarray = Z[i : i + subarray_shape[0]]\n",
        "    subarrays.append(subarray)\n",
        "\n",
        "# Convert the list of subarrays to a NumPy array\n",
        "R = np.array(subarrays)\n",
        "\n",
        "print(\"Array Z:\")\n",
        "print(Z)\n",
        "print(\"\\nArray R:\")\n",
        "print(R)\n"
      ],
      "metadata": {
        "colab": {
          "base_uri": "https://localhost:8080/"
        },
        "id": "yR6r7n--lFdo",
        "outputId": "db6b9270-0b57-4ee2-e579-be3e368c2ff8"
      },
      "execution_count": 28,
      "outputs": [
        {
          "output_type": "stream",
          "name": "stdout",
          "text": [
            "Array Z:\n",
            "[ 1  2  3  4  5  6  7  8  9 10 11 12 13 14]\n",
            "\n",
            "Array R:\n",
            "[[ 1  2  3  4]\n",
            " [ 2  3  4  5]\n",
            " [ 3  4  5  6]\n",
            " [ 4  5  6  7]\n",
            " [ 5  6  7  8]\n",
            " [ 6  7  8  9]\n",
            " [ 7  8  9 10]\n",
            " [ 8  9 10 11]\n",
            " [ 9 10 11 12]\n",
            " [10 11 12 13]\n",
            " [11 12 13 14]]\n"
          ]
        }
      ]
    },
    {
      "cell_type": "markdown",
      "source": [
        "Compute a matrix rank"
      ],
      "metadata": {
        "id": "3LIfUsIQljyg"
      }
    },
    {
      "cell_type": "code",
      "source": [
        "import numpy as np\n",
        "\n",
        "# Example matrix (you can replace this with your own matrix)\n",
        "matrix = np.array([[1, 2, 3],\n",
        "                   [4, 5, 6],\n",
        "                   [7, 8, 9]])\n",
        "\n",
        "# Compute the rank of the matrix\n",
        "rank = np.linalg.matrix_rank(matrix)\n",
        "\n",
        "print(f\"The rank of the matrix is: {rank}\")\n"
      ],
      "metadata": {
        "colab": {
          "base_uri": "https://localhost:8080/"
        },
        "id": "OsaOC4H7lbd6",
        "outputId": "bf1c927b-830f-4be4-c104-a4344ec58d96"
      },
      "execution_count": 29,
      "outputs": [
        {
          "output_type": "stream",
          "name": "stdout",
          "text": [
            "The rank of the matrix is: 2\n"
          ]
        }
      ]
    },
    {
      "cell_type": "markdown",
      "source": [
        "How to find the most frequent value in an array?"
      ],
      "metadata": {
        "id": "F0kF2RGOlwvp"
      }
    },
    {
      "cell_type": "code",
      "source": [
        "import numpy as np\n",
        "\n",
        "def most_frequent_value(arr):\n",
        "\n",
        "    unique_values, counts = np.unique(arr, return_counts=True)\n",
        "    max_count_index = np.argmax(counts)\n",
        "    most_frequent = unique_values[max_count_index]\n",
        "    return most_frequent\n",
        "\n",
        "# Example usage\n",
        "input_array = np.array([1, 2, 3, 2, 4, 2, 5, 2, 6, 2])\n",
        "result = most_frequent_value(input_array)\n",
        "\n",
        "print(f\"Input array: {input_array}\")\n",
        "print(f\"Most frequent value: {result}\")\n"
      ],
      "metadata": {
        "colab": {
          "base_uri": "https://localhost:8080/"
        },
        "id": "7PH2Ws4PlviR",
        "outputId": "244beb24-d8f9-4795-dad7-38b732e370f8"
      },
      "execution_count": 30,
      "outputs": [
        {
          "output_type": "stream",
          "name": "stdout",
          "text": [
            "Input array: [1 2 3 2 4 2 5 2 6 2]\n",
            "Most frequent value: 2\n"
          ]
        }
      ]
    },
    {
      "cell_type": "markdown",
      "source": [
        " Extract all the contiguous 3x3 blocks from a random 10x10 matrix"
      ],
      "metadata": {
        "id": "efK3G-hkmJtB"
      }
    },
    {
      "cell_type": "code",
      "source": [
        "import numpy as np\n",
        "\n",
        "# Create a random 10x10 matrix\n",
        "np.random.seed(42)\n",
        "matrix = np.random.randint(0, 100, size=(10, 10))\n",
        "\n",
        "# Initialize an empty list to store 3x3 blocks\n",
        "blocks = []\n",
        "\n",
        "# Iterate over rows and columns to extract blocks\n",
        "for i in range(8):  # Rows (10 - 3 + 1)\n",
        "    for j in range(8):  # Columns (10 - 3 + 1)\n",
        "        block = matrix[i:i+3, j:j+3]\n",
        "        blocks.append(block)\n",
        "\n",
        "# Convert the list of blocks to a NumPy array\n",
        "blocks_array = np.array(blocks)\n",
        "\n",
        "# Print the extracted blocks\n",
        "for idx, block in enumerate(blocks_array):\n",
        "    print(f\"Block {idx+1}:\\n{block}\\n\")\n"
      ],
      "metadata": {
        "colab": {
          "base_uri": "https://localhost:8080/"
        },
        "id": "AIT2ByO4mCcY",
        "outputId": "0daf4fa0-f7c3-4eee-b09e-75e88c1b456c"
      },
      "execution_count": 31,
      "outputs": [
        {
          "output_type": "stream",
          "name": "stdout",
          "text": [
            "Block 1:\n",
            "[[51 92 14]\n",
            " [87 99 23]\n",
            " [ 1 63 59]]\n",
            "\n",
            "Block 2:\n",
            "[[92 14 71]\n",
            " [99 23  2]\n",
            " [63 59 20]]\n",
            "\n",
            "Block 3:\n",
            "[[14 71 60]\n",
            " [23  2 21]\n",
            " [59 20 32]]\n",
            "\n",
            "Block 4:\n",
            "[[71 60 20]\n",
            " [ 2 21 52]\n",
            " [20 32 75]]\n",
            "\n",
            "Block 5:\n",
            "[[60 20 82]\n",
            " [21 52  1]\n",
            " [32 75 57]]\n",
            "\n",
            "Block 6:\n",
            "[[20 82 86]\n",
            " [52  1 87]\n",
            " [75 57 21]]\n",
            "\n",
            "Block 7:\n",
            "[[82 86 74]\n",
            " [ 1 87 29]\n",
            " [57 21 88]]\n",
            "\n",
            "Block 8:\n",
            "[[86 74 74]\n",
            " [87 29 37]\n",
            " [21 88 48]]\n",
            "\n",
            "Block 9:\n",
            "[[87 99 23]\n",
            " [ 1 63 59]\n",
            " [90 58 41]]\n",
            "\n",
            "Block 10:\n",
            "[[99 23  2]\n",
            " [63 59 20]\n",
            " [58 41 91]]\n",
            "\n",
            "Block 11:\n",
            "[[23  2 21]\n",
            " [59 20 32]\n",
            " [41 91 59]]\n",
            "\n",
            "Block 12:\n",
            "[[ 2 21 52]\n",
            " [20 32 75]\n",
            " [91 59 79]]\n",
            "\n",
            "Block 13:\n",
            "[[21 52  1]\n",
            " [32 75 57]\n",
            " [59 79 14]]\n",
            "\n",
            "Block 14:\n",
            "[[52  1 87]\n",
            " [75 57 21]\n",
            " [79 14 61]]\n",
            "\n",
            "Block 15:\n",
            "[[ 1 87 29]\n",
            " [57 21 88]\n",
            " [14 61 61]]\n",
            "\n",
            "Block 16:\n",
            "[[87 29 37]\n",
            " [21 88 48]\n",
            " [61 61 46]]\n",
            "\n",
            "Block 17:\n",
            "[[ 1 63 59]\n",
            " [90 58 41]\n",
            " [61 50 54]]\n",
            "\n",
            "Block 18:\n",
            "[[63 59 20]\n",
            " [58 41 91]\n",
            " [50 54 63]]\n",
            "\n",
            "Block 19:\n",
            "[[59 20 32]\n",
            " [41 91 59]\n",
            " [54 63  2]]\n",
            "\n",
            "Block 20:\n",
            "[[20 32 75]\n",
            " [91 59 79]\n",
            " [63  2 50]]\n",
            "\n",
            "Block 21:\n",
            "[[32 75 57]\n",
            " [59 79 14]\n",
            " [ 2 50  6]]\n",
            "\n",
            "Block 22:\n",
            "[[75 57 21]\n",
            " [79 14 61]\n",
            " [50  6 20]]\n",
            "\n",
            "Block 23:\n",
            "[[57 21 88]\n",
            " [14 61 61]\n",
            " [ 6 20 72]]\n",
            "\n",
            "Block 24:\n",
            "[[21 88 48]\n",
            " [61 61 46]\n",
            " [20 72 38]]\n",
            "\n",
            "Block 25:\n",
            "[[90 58 41]\n",
            " [61 50 54]\n",
            " [17  3 88]]\n",
            "\n",
            "Block 26:\n",
            "[[58 41 91]\n",
            " [50 54 63]\n",
            " [ 3 88 59]]\n",
            "\n",
            "Block 27:\n",
            "[[41 91 59]\n",
            " [54 63  2]\n",
            " [88 59 13]]\n",
            "\n",
            "Block 28:\n",
            "[[91 59 79]\n",
            " [63  2 50]\n",
            " [59 13  8]]\n",
            "\n",
            "Block 29:\n",
            "[[59 79 14]\n",
            " [ 2 50  6]\n",
            " [13  8 89]]\n",
            "\n",
            "Block 30:\n",
            "[[79 14 61]\n",
            " [50  6 20]\n",
            " [ 8 89 52]]\n",
            "\n",
            "Block 31:\n",
            "[[14 61 61]\n",
            " [ 6 20 72]\n",
            " [89 52  1]]\n",
            "\n",
            "Block 32:\n",
            "[[61 61 46]\n",
            " [20 72 38]\n",
            " [52  1 83]]\n",
            "\n",
            "Block 33:\n",
            "[[61 50 54]\n",
            " [17  3 88]\n",
            " [91 59 70]]\n",
            "\n",
            "Block 34:\n",
            "[[50 54 63]\n",
            " [ 3 88 59]\n",
            " [59 70 43]]\n",
            "\n",
            "Block 35:\n",
            "[[54 63  2]\n",
            " [88 59 13]\n",
            " [70 43  7]]\n",
            "\n",
            "Block 36:\n",
            "[[63  2 50]\n",
            " [59 13  8]\n",
            " [43  7 46]]\n",
            "\n",
            "Block 37:\n",
            "[[ 2 50  6]\n",
            " [13  8 89]\n",
            " [ 7 46 34]]\n",
            "\n",
            "Block 38:\n",
            "[[50  6 20]\n",
            " [ 8 89 52]\n",
            " [46 34 77]]\n",
            "\n",
            "Block 39:\n",
            "[[ 6 20 72]\n",
            " [89 52  1]\n",
            " [34 77 80]]\n",
            "\n",
            "Block 40:\n",
            "[[20 72 38]\n",
            " [52  1 83]\n",
            " [77 80 35]]\n",
            "\n",
            "Block 41:\n",
            "[[17  3 88]\n",
            " [91 59 70]\n",
            " [49  3  1]]\n",
            "\n",
            "Block 42:\n",
            "[[ 3 88 59]\n",
            " [59 70 43]\n",
            " [ 3  1  5]]\n",
            "\n",
            "Block 43:\n",
            "[[88 59 13]\n",
            " [70 43  7]\n",
            " [ 1  5 53]]\n",
            "\n",
            "Block 44:\n",
            "[[59 13  8]\n",
            " [43  7 46]\n",
            " [ 5 53  3]]\n",
            "\n",
            "Block 45:\n",
            "[[13  8 89]\n",
            " [ 7 46 34]\n",
            " [53  3 53]]\n",
            "\n",
            "Block 46:\n",
            "[[ 8 89 52]\n",
            " [46 34 77]\n",
            " [ 3 53 92]]\n",
            "\n",
            "Block 47:\n",
            "[[89 52  1]\n",
            " [34 77 80]\n",
            " [53 92 62]]\n",
            "\n",
            "Block 48:\n",
            "[[52  1 83]\n",
            " [77 80 35]\n",
            " [92 62 17]]\n",
            "\n",
            "Block 49:\n",
            "[[91 59 70]\n",
            " [49  3  1]\n",
            " [89 43 33]]\n",
            "\n",
            "Block 50:\n",
            "[[59 70 43]\n",
            " [ 3  1  5]\n",
            " [43 33 73]]\n",
            "\n",
            "Block 51:\n",
            "[[70 43  7]\n",
            " [ 1  5 53]\n",
            " [33 73 61]]\n",
            "\n",
            "Block 52:\n",
            "[[43  7 46]\n",
            " [ 5 53  3]\n",
            " [73 61 99]]\n",
            "\n",
            "Block 53:\n",
            "[[ 7 46 34]\n",
            " [53  3 53]\n",
            " [61 99 13]]\n",
            "\n",
            "Block 54:\n",
            "[[46 34 77]\n",
            " [ 3 53 92]\n",
            " [99 13 94]]\n",
            "\n",
            "Block 55:\n",
            "[[34 77 80]\n",
            " [53 92 62]\n",
            " [13 94 47]]\n",
            "\n",
            "Block 56:\n",
            "[[77 80 35]\n",
            " [92 62 17]\n",
            " [94 47 14]]\n",
            "\n",
            "Block 57:\n",
            "[[49  3  1]\n",
            " [89 43 33]\n",
            " [71 77 86]]\n",
            "\n",
            "Block 58:\n",
            "[[ 3  1  5]\n",
            " [43 33 73]\n",
            " [77 86 61]]\n",
            "\n",
            "Block 59:\n",
            "[[ 1  5 53]\n",
            " [33 73 61]\n",
            " [86 61 39]]\n",
            "\n",
            "Block 60:\n",
            "[[ 5 53  3]\n",
            " [73 61 99]\n",
            " [61 39 84]]\n",
            "\n",
            "Block 61:\n",
            "[[53  3 53]\n",
            " [61 99 13]\n",
            " [39 84 79]]\n",
            "\n",
            "Block 62:\n",
            "[[ 3 53 92]\n",
            " [99 13 94]\n",
            " [84 79 81]]\n",
            "\n",
            "Block 63:\n",
            "[[53 92 62]\n",
            " [13 94 47]\n",
            " [79 81 52]]\n",
            "\n",
            "Block 64:\n",
            "[[92 62 17]\n",
            " [94 47 14]\n",
            " [81 52 23]]\n",
            "\n"
          ]
        }
      ]
    },
    {
      "cell_type": "markdown",
      "source": [
        "Create a 2D array subclass such that Z[i,j] == Z[j,i]"
      ],
      "metadata": {
        "id": "Mnw5Bya0mYm7"
      }
    },
    {
      "cell_type": "code",
      "source": [
        "import numpy as np\n",
        "\n",
        "class SymmetricArray(np.ndarray):\n",
        "    def __new__(cls, input_array):\n",
        "        obj = np.asarray(input_array).view(cls)\n",
        "        return obj\n",
        "\n",
        "    def __getitem__(self, key):\n",
        "        i, j = key\n",
        "        return super().__getitem__((max(i, j), min(i, j)))\n",
        "\n",
        "# Example usage\n",
        "array = np.array([[1, 2, 3],\n",
        "                  [4, 5, 6],\n",
        "                  [7, 8, 9]])\n",
        "\n",
        "symmetric_array = SymmetricArray(array)\n",
        "print(\"Original array:\")\n",
        "print(symmetric_array)\n",
        "\n",
        "print(\"\\nSymmetric property (Z[i, j] == Z[j, i]):\")\n",
        "print(symmetric_array[1, 0])  # Should print the same value as symmetric_array[0, 1]\n"
      ],
      "metadata": {
        "colab": {
          "base_uri": "https://localhost:8080/"
        },
        "id": "MVu3MjYKmr07",
        "outputId": "d13a2426-a1eb-4274-ef62-e1088b7b44d4"
      },
      "execution_count": 33,
      "outputs": [
        {
          "output_type": "stream",
          "name": "stdout",
          "text": [
            "Original array:\n",
            "[[1 4 7]\n",
            " [4 5 8]\n",
            " [7 8 9]]\n",
            "\n",
            "Symmetric property (Z[i, j] == Z[j, i]):\n",
            "4\n"
          ]
        }
      ]
    },
    {
      "cell_type": "markdown",
      "source": [
        " Consider a set of p matrices wich shape (n,n) and a set of p vectors with shape (n,1). How to compute the sum of of the p matrix products at once? (result has shape (n,1))"
      ],
      "metadata": {
        "id": "zYC2oinmnAwm"
      }
    },
    {
      "cell_type": "code",
      "source": [
        "import numpy as np\n",
        "\n",
        "def sum_of_matrix_products(matrices, vectors):\n",
        "    # Ensure matrices and vectors are NumPy arrays\n",
        "    matrices = np.array(matrices)\n",
        "    vectors = np.array(vectors)\n",
        "\n",
        "    # Compute the matrix products for each pair of matrix and vector\n",
        "    products = np.matmul(matrices, vectors)\n",
        "\n",
        "    # Sum along the first axis to get the result with shape (n, 1)\n",
        "    result = np.sum(products, axis=0)\n",
        "\n",
        "    return result\n",
        "\n",
        "# Example usage\n",
        "p = 3  # Number of matrices\n",
        "n = 4  # Shape of matrices and vectors\n",
        "\n",
        "# Generate random matrices and vectors\n",
        "matrices = np.random.rand(p, n, n)\n",
        "vectors = np.random.rand(p, n, 1)\n",
        "\n",
        "# Compute the sum of matrix products\n",
        "result = sum_of_matrix_products(matrices, vectors)\n",
        "print(\"Result:\")\n",
        "print(result)\n"
      ],
      "metadata": {
        "colab": {
          "base_uri": "https://localhost:8080/"
        },
        "id": "7-Zn7fAXm8BH",
        "outputId": "20d78e66-35ad-4143-f7ee-fb2403f7c93c"
      },
      "execution_count": 34,
      "outputs": [
        {
          "output_type": "stream",
          "name": "stdout",
          "text": [
            "Result:\n",
            "[[3.13238776]\n",
            " [3.25632513]\n",
            " [3.96835966]\n",
            " [3.90067234]]\n"
          ]
        }
      ]
    },
    {
      "cell_type": "markdown",
      "source": [
        " Consider a 16x16 array, how to get the block-sum (block size is 4x4)?"
      ],
      "metadata": {
        "id": "uXubXuIInhgO"
      }
    },
    {
      "cell_type": "code",
      "source": [
        "import numpy as np\n",
        "\n",
        "# Create a random 16x16 array\n",
        "array = np.random.randint(1, 10, size=(16, 16))\n",
        "\n",
        "# Reshape the array into blocks of size 4x4\n",
        "blocks = array.reshape(4, 4, 4, 4)\n",
        "\n",
        "# Sum along the last two axes to get the block-sum\n",
        "block_sum = blocks.sum(axis=(-2, -1))\n",
        "\n",
        "print(\"Block-sum:\")\n",
        "print(block_sum)\n"
      ],
      "metadata": {
        "colab": {
          "base_uri": "https://localhost:8080/"
        },
        "id": "MKrhaC_Pnb-v",
        "outputId": "87045d6c-2dcd-4534-afb9-ce80d6342f42"
      },
      "execution_count": 35,
      "outputs": [
        {
          "output_type": "stream",
          "name": "stdout",
          "text": [
            "Block-sum:\n",
            "[[89 58 71 71]\n",
            " [93 78 74 68]\n",
            " [72 65 77 87]\n",
            " [80 77 82 78]]\n"
          ]
        }
      ]
    },
    {
      "cell_type": "markdown",
      "source": [
        " How to implement the Game of Life using numpy arrays?"
      ],
      "metadata": {
        "id": "dEW-rJEinwDC"
      }
    },
    {
      "cell_type": "code",
      "source": [
        "import numpy as np\n",
        "import matplotlib.pyplot as plt\n",
        "import matplotlib.animation as animation\n",
        "\n",
        "# Initialize the universe (6x6 grid)\n",
        "universe = np.zeros((6, 6))\n",
        "\n",
        "# Set the seed (beacon oscillator)\n",
        "beacon = np.array([[1, 1, 0, 0],\n",
        "                   [1, 1, 0, 0],\n",
        "                   [0, 0, 1, 1],\n",
        "                   [0, 0, 1, 1]])\n",
        "universe[1:5, 1:5] = beacon\n",
        "\n",
        "# Define the rules of Life\n",
        "def apply_rules(cell, neighbors):\n",
        "    if cell == 1:\n",
        "        return 1 if 2 <= neighbors <= 3 else 0\n",
        "    else:\n",
        "        return 1 if neighbors == 3 else 0\n",
        "\n",
        "# Update the universe for one generation\n",
        "def update_universe(universe):\n",
        "    new_universe = np.zeros_like(universe)\n",
        "    for i in range(universe.shape[0]):\n",
        "        for j in range(universe.shape[1]):\n",
        "            neighbors = np.sum(universe[max(i-1, 0):i+2, max(j-1, 0):j+2]) - universe[i, j]\n",
        "            new_universe[i, j] = apply_rules(universe[i, j], neighbors)\n",
        "    return new_universe\n",
        "\n",
        "# Create an animation\n",
        "fig, ax = plt.subplots()\n",
        "im = ax.imshow(universe, cmap='gray')\n",
        "\n",
        "def animate(frame):\n",
        "    global universe\n",
        "    universe = update_universe(universe)\n",
        "    im.set_array(universe)\n",
        "    return im,\n",
        "\n",
        "ani = animation.FuncAnimation(fig, animate, frames=10, interval=500, blit=True)\n",
        "plt.show()\n"
      ],
      "metadata": {
        "colab": {
          "base_uri": "https://localhost:8080/",
          "height": 430
        },
        "id": "g3YtO5T7nrXO",
        "outputId": "12e4ae55-f242-4c0b-e31d-b2db52722361"
      },
      "execution_count": 36,
      "outputs": [
        {
          "output_type": "display_data",
          "data": {
            "text/plain": [
              "<Figure size 640x480 with 1 Axes>"
            ],
            "image/png": "[encoded data removed]"
          },
          "metadata": {}
        }
      ]
    },
    {
      "cell_type": "markdown",
      "source": [
        " How to get the n largest values of an array"
      ],
      "metadata": {
        "id": "0YwM6MYDoSds"
      }
    },
    {
      "cell_type": "code",
      "source": [
        "import numpy as np\n",
        "\n",
        "def get_n_largest_values(arr, n):\n",
        "    # Get the indices of the n largest values\n",
        "    indices = np.argpartition(arr, -n)[-n:]\n",
        "\n",
        "    # Sort the indices by value\n",
        "    sorted_indices = indices[np.argsort(arr[indices])]\n",
        "\n",
        "    # Get the n largest values\n",
        "    largest_values = arr[sorted_indices]\n",
        "\n",
        "    return largest_values\n",
        "\n",
        "# Example usage\n",
        "arr = np.array([9, 4, 4, 3, 3, 9, 0, 4, 6, 0])\n",
        "n = 3\n",
        "result = get_n_largest_values(arr, n)\n",
        "\n",
        "print(f\"Original array: {arr}\")\n",
        "print(f\"{n} largest values: {result}\")\n"
      ],
      "metadata": {
        "colab": {
          "base_uri": "https://localhost:8080/"
        },
        "id": "nhGoRNm4oPKw",
        "outputId": "771fd63f-67a1-4b81-d815-0bb056c24183"
      },
      "execution_count": 37,
      "outputs": [
        {
          "output_type": "stream",
          "name": "stdout",
          "text": [
            "Original array: [9 4 4 3 3 9 0 4 6 0]\n",
            "3 largest values: [6 9 9]\n"
          ]
        }
      ]
    },
    {
      "cell_type": "markdown",
      "source": [
        "Given an arbitrary number of vectors, build the cartesian product (every combinations of every item)"
      ],
      "metadata": {
        "id": "DjRYIE9aolLC"
      }
    },
    {
      "cell_type": "code",
      "source": [
        "import itertools\n",
        "\n",
        "def cartesian_product(*vectors):\n",
        "\n",
        "    return list(itertools.product(*vectors))\n",
        "\n",
        "# Example usage\n",
        "vector1 = [1, 2]\n",
        "vector2 = ['A', 'B', 'C']\n",
        "vector3 = [10, 20, 30]\n",
        "\n",
        "result = cartesian_product(vector1, vector2, vector3)\n",
        "for item in result:\n",
        "    print(item)\n"
      ],
      "metadata": {
        "colab": {
          "base_uri": "https://localhost:8080/"
        },
        "id": "k5FGb9Luo8N4",
        "outputId": "e0b02316-df6e-4a8d-97cc-7fa6c2388976"
      },
      "execution_count": 40,
      "outputs": [
        {
          "output_type": "stream",
          "name": "stdout",
          "text": [
            "(1, 'A', 10)\n",
            "(1, 'A', 20)\n",
            "(1, 'A', 30)\n",
            "(1, 'B', 10)\n",
            "(1, 'B', 20)\n",
            "(1, 'B', 30)\n",
            "(1, 'C', 10)\n",
            "(1, 'C', 20)\n",
            "(1, 'C', 30)\n",
            "(2, 'A', 10)\n",
            "(2, 'A', 20)\n",
            "(2, 'A', 30)\n",
            "(2, 'B', 10)\n",
            "(2, 'B', 20)\n",
            "(2, 'B', 30)\n",
            "(2, 'C', 10)\n",
            "(2, 'C', 20)\n",
            "(2, 'C', 30)\n"
          ]
        }
      ]
    },
    {
      "cell_type": "markdown",
      "source": [
        " How to create a record array from a regular array?"
      ],
      "metadata": {
        "id": "C_zSfXqXpPiQ"
      }
    },
    {
      "cell_type": "code",
      "source": [
        "import numpy as np\n",
        "\n",
        "# Create a regular array\n",
        "regular_array = np.array([(1, 'A', 10.5),\n",
        "                          (2, 'B', 20.0),\n",
        "                          (3, 'C', 15.3)],\n",
        "                         dtype=[('id', int), ('label', 'U1'), ('value', float)])\n",
        "\n",
        "# Convert the regular array to a record array\n",
        "record_array = np.rec.array(regular_array)\n",
        "\n",
        "# Print the record array\n",
        "print(record_array)\n"
      ],
      "metadata": {
        "colab": {
          "base_uri": "https://localhost:8080/"
        },
        "id": "y1TqpsVlpEWl",
        "outputId": "c97968dd-53b9-4f1d-ecc4-f09a104a2789"
      },
      "execution_count": 41,
      "outputs": [
        {
          "output_type": "stream",
          "name": "stdout",
          "text": [
            "[(1, 'A', 10.5) (2, 'B', 20. ) (3, 'C', 15.3)]\n"
          ]
        }
      ]
    },
    {
      "cell_type": "markdown",
      "source": [
        "Consider a large vector Z, compute Z to the power of 3 using 3 different methods"
      ],
      "metadata": {
        "id": "Qp9gPHufppmX"
      }
    },
    {
      "cell_type": "code",
      "source": [
        "result1 = Z**3\n"
      ],
      "metadata": {
        "id": "m3nqQuScph__"
      },
      "execution_count": 42,
      "outputs": []
    },
    {
      "cell_type": "code",
      "source": [
        "import numpy as np\n",
        "\n",
        "# Method 1: Using a loop\n",
        "def power_loop(Z):\n",
        "    result = np.empty_like(Z)\n",
        "    for i in range(len(Z)):\n",
        "        result[i] = Z[i] ** 3\n",
        "    return result\n",
        "\n",
        "# Method 2: Using np.power\n",
        "def power_np_power(Z):\n",
        "    return np.power(Z, 3)\n",
        "\n",
        "# Method 3: Using the exponentiation operator\n",
        "def power_exponentiation(Z):\n",
        "    return Z ** 3\n",
        "\n",
        "# Define a large vector Z (example)\n",
        "Z = np.random.randint(1, 10, size=1000000)  # Example: 1 million elements\n",
        "\n",
        "# Compute Z to the power of 3 using all three methods\n",
        "result1 = power_loop(Z)\n",
        "result2 = power_np_power(Z)\n",
        "result3 = power_exponentiation(Z)\n",
        "\n",
        "# Verify that all three methods produce the same result\n",
        "assert np.array_equal(result1, result2) and np.array_equal(result1, result3), \"Results do not match\"\n",
        "\n",
        "print(\"Results computed successfully.\")\n"
      ],
      "metadata": {
        "colab": {
          "base_uri": "https://localhost:8080/"
        },
        "id": "c3kXkC_fp6l1",
        "outputId": "63c006d2-756e-4163-8a12-89b57acf8787"
      },
      "execution_count": 43,
      "outputs": [
        {
          "output_type": "stream",
          "name": "stdout",
          "text": [
            "Results computed successfully.\n"
          ]
        }
      ]
    },
    {
      "cell_type": "markdown",
      "source": [
        "Consider two arrays A and B of shape (8,3) and (2,2). How to find rows of A that contain elements of each row of B regardless of the order of the elements in B?"
      ],
      "metadata": {
        "id": "ZCYyFsSVqgah"
      }
    },
    {
      "cell_type": "code",
      "source": [
        "import numpy as np\n",
        "\n",
        "# Example arrays A and B\n",
        "A = np.array([[1, 2, 3],\n",
        "              [4, 5, 6],\n",
        "              [7, 8, 9],\n",
        "              [2, 3, 1],\n",
        "              [5, 6, 4],\n",
        "              [8, 9, 7],\n",
        "              [3, 1, 2],\n",
        "              [6, 4, 5]])\n",
        "\n",
        "B = np.array([[1, 2],\n",
        "              [4, 5]])\n",
        "\n",
        "# Convert rows of B to sets for efficient comparison\n",
        "B_sets = [set(row) for row in B]\n",
        "\n",
        "# Initialize an empty list to store matching rows from A\n",
        "matching_rows = []\n",
        "\n",
        "# Check each row of A\n",
        "for row in A:\n",
        "    if all(B_set.issubset(row) for B_set in B_sets):\n",
        "        matching_rows.append(row)\n",
        "\n",
        "# Convert the list of matching rows to a NumPy array\n",
        "result = np.array(matching_rows)\n",
        "\n",
        "print(\"Array A:\")\n",
        "print(A)\n",
        "print(\"\\nArray B:\")\n",
        "print(B)\n",
        "print(\"\\nMatching rows in A:\")\n",
        "print(result)\n"
      ],
      "metadata": {
        "colab": {
          "base_uri": "https://localhost:8080/"
        },
        "id": "8DDH2XfIqWCg",
        "outputId": "00d0e9da-3852-417f-c3be-850daf45159a"
      },
      "execution_count": 44,
      "outputs": [
        {
          "output_type": "stream",
          "name": "stdout",
          "text": [
            "Array A:\n",
            "[[1 2 3]\n",
            " [4 5 6]\n",
            " [7 8 9]\n",
            " [2 3 1]\n",
            " [5 6 4]\n",
            " [8 9 7]\n",
            " [3 1 2]\n",
            " [6 4 5]]\n",
            "\n",
            "Array B:\n",
            "[[1 2]\n",
            " [4 5]]\n",
            "\n",
            "Matching rows in A:\n",
            "[]\n"
          ]
        }
      ]
    },
    {
      "cell_type": "markdown",
      "source": [
        "Considering a 10x3 matrix, extract rows with unequal values (e.g. [2,2,3])"
      ],
      "metadata": {
        "id": "2iZu49Riq7zC"
      }
    },
    {
      "cell_type": "code",
      "source": [
        "import numpy as np\n",
        "\n",
        "# Create a 10x3 matrix (you can replace this with your own matrix)\n",
        "matrix = np.array([[1, 2, 3],\n",
        "                   [2, 2, 2],\n",
        "                   [3, 3, 3],\n",
        "                   [4, 4, 4],\n",
        "                   [2, 2, 3],\n",
        "                   [5, 5, 5],\n",
        "                   [6, 6, 6],\n",
        "                   [7, 7, 7],\n",
        "                   [8, 8, 8],\n",
        "                   [9, 9, 9]])\n",
        "\n",
        "# Check for rows where consecutive elements are not equal within each row\n",
        "# using np.logical_and.reduce and axis=1 to check row-wise\n",
        "new_matrix = np.logical_and.reduce(matrix[:, 1:] == matrix[:, :-1], axis=1)\n",
        "\n",
        "# Filtering out rows with unequal consecutive values and storing in 'result'\n",
        "result = matrix[~new_matrix]\n",
        "\n",
        "print(\"Original matrix:\")\n",
        "print(matrix)\n",
        "print(\"\\nRows with unequal values:\")\n",
        "print(result)\n"
      ],
      "metadata": {
        "colab": {
          "base_uri": "https://localhost:8080/"
        },
        "id": "Ps7a9O7Pqy11",
        "outputId": "a41985e6-fbb8-402c-b991-923ebcc54ec5"
      },
      "execution_count": 45,
      "outputs": [
        {
          "output_type": "stream",
          "name": "stdout",
          "text": [
            "Original matrix:\n",
            "[[1 2 3]\n",
            " [2 2 2]\n",
            " [3 3 3]\n",
            " [4 4 4]\n",
            " [2 2 3]\n",
            " [5 5 5]\n",
            " [6 6 6]\n",
            " [7 7 7]\n",
            " [8 8 8]\n",
            " [9 9 9]]\n",
            "\n",
            "Rows with unequal values:\n",
            "[[1 2 3]\n",
            " [2 2 3]]\n"
          ]
        }
      ]
    },
    {
      "cell_type": "markdown",
      "source": [
        "Convert a vector of ints into a matrix binary representation"
      ],
      "metadata": {
        "id": "tAYpo1zyrL-o"
      }
    },
    {
      "cell_type": "code",
      "source": [
        "import numpy as np\n",
        "\n",
        "# Given vector of integers\n",
        "I = np.array([0, 1, 2, 3, 15, 16, 32, 64, 128])\n",
        "\n",
        "# Convert each item in the array into its binary representation\n",
        "binary_matrix = np.array([list(bin(num)[2:].zfill(8)) for num in I])\n",
        "\n",
        "print(\"Original vector:\")\n",
        "print(I)\n",
        "print(\"\\nBinary representation of the vector:\")\n",
        "print(binary_matrix)\n"
      ],
      "metadata": {
        "colab": {
          "base_uri": "https://localhost:8080/"
        },
        "id": "lg8I7NbnrKAq",
        "outputId": "fb20cbc4-92a2-4f85-dfdd-6180ad5777c5"
      },
      "execution_count": 46,
      "outputs": [
        {
          "output_type": "stream",
          "name": "stdout",
          "text": [
            "Original vector:\n",
            "[  0   1   2   3  15  16  32  64 128]\n",
            "\n",
            "Binary representation of the vector:\n",
            "[['0' '0' '0' '0' '0' '0' '0' '0']\n",
            " ['0' '0' '0' '0' '0' '0' '0' '1']\n",
            " ['0' '0' '0' '0' '0' '0' '1' '0']\n",
            " ['0' '0' '0' '0' '0' '0' '1' '1']\n",
            " ['0' '0' '0' '0' '1' '1' '1' '1']\n",
            " ['0' '0' '0' '1' '0' '0' '0' '0']\n",
            " ['0' '0' '1' '0' '0' '0' '0' '0']\n",
            " ['0' '1' '0' '0' '0' '0' '0' '0']\n",
            " ['1' '0' '0' '0' '0' '0' '0' '0']]\n"
          ]
        }
      ]
    },
    {
      "cell_type": "markdown",
      "source": [
        " Given a two dimensional array, how to extract unique rows?"
      ],
      "metadata": {
        "id": "Hhb0C04orcim"
      }
    },
    {
      "cell_type": "code",
      "source": [
        "import numpy as np\n",
        "\n",
        "# Example two-dimensional array (you can replace this with your own array)\n",
        "array = np.array([[1, 2, 3],\n",
        "                  [4, 5, 6],\n",
        "                  [1, 2, 3],\n",
        "                  [7, 8, 9],\n",
        "                  [4, 5, 6]])\n",
        "\n",
        "# Get unique rows using np.unique with axis=0\n",
        "unique_rows = np.unique(array, axis=0)\n",
        "\n",
        "print(\"Original array:\")\n",
        "print(array)\n",
        "print(\"\\nUnique rows:\")\n",
        "print(unique_rows)\n"
      ],
      "metadata": {
        "colab": {
          "base_uri": "https://localhost:8080/"
        },
        "id": "92Zy6mfIra89",
        "outputId": "94aebe05-6d2c-4161-fad5-a30b54138d11"
      },
      "execution_count": 47,
      "outputs": [
        {
          "output_type": "stream",
          "name": "stdout",
          "text": [
            "Original array:\n",
            "[[1 2 3]\n",
            " [4 5 6]\n",
            " [1 2 3]\n",
            " [7 8 9]\n",
            " [4 5 6]]\n",
            "\n",
            "Unique rows:\n",
            "[[1 2 3]\n",
            " [4 5 6]\n",
            " [7 8 9]]\n"
          ]
        }
      ]
    },
    {
      "cell_type": "markdown",
      "source": [
        " Considering 2 vectors A & B, write the einsum equivalent of inner, outer, sum, and mul function"
      ],
      "metadata": {
        "id": "Dg3zBDQTrt-D"
      }
    },
    {
      "cell_type": "code",
      "source": [
        "import numpy as np\n",
        "\n",
        "# Define two sample vectors A and B\n",
        "A = np.array([1, 2, 3])\n",
        "B = np.array([4, 5, 6])\n",
        "\n",
        "# Equivalent of inner product (dot product) using einsum\n",
        "inner_product = np.einsum('i,i->', A, B)\n",
        "print(\"Inner product:\", inner_product)\n",
        "\n",
        "# Equivalent of outer product using einsum\n",
        "outer_product = np.einsum('i,j->ij', A, B)\n",
        "print(\"\\nOuter product:\")\n",
        "print(outer_product)\n",
        "\n",
        "# Equivalent of sum of elements using einsum\n",
        "sum_of_elements = np.einsum('i->', A)\n",
        "print(\"\\nSum of elements in A:\", sum_of_elements)\n",
        "\n",
        "# Equivalent of element-wise multiplication using einsum\n",
        "elementwise_multiplication = np.einsum('i,i->i', A, B)\n",
        "print(\"\\nElement-wise multiplication of A and B:\")\n",
        "print(elementwise_multiplication)\n"
      ],
      "metadata": {
        "colab": {
          "base_uri": "https://localhost:8080/"
        },
        "id": "KJ7vmNEZrscF",
        "outputId": "fc702f05-8d6c-461d-975b-78e84228fff9"
      },
      "execution_count": 48,
      "outputs": [
        {
          "output_type": "stream",
          "name": "stdout",
          "text": [
            "Inner product: 32\n",
            "\n",
            "Outer product:\n",
            "[[ 4  5  6]\n",
            " [ 8 10 12]\n",
            " [12 15 18]]\n",
            "\n",
            "Sum of elements in A: 6\n",
            "\n",
            "Element-wise multiplication of A and B:\n",
            "[ 4 10 18]\n"
          ]
        }
      ]
    },
    {
      "cell_type": "markdown",
      "source": [
        "Considering a path described by two vectors (X,Y), how to sample it using equidistant samples"
      ],
      "metadata": {
        "id": "q7thQqQQsJkx"
      }
    },
    {
      "cell_type": "code",
      "source": [
        "import numpy as np\n",
        "import matplotlib.pyplot as plt\n",
        "\n",
        "# Sample vectors (you can replace these with your own vectors)\n",
        "phi = np.arange(0, 1 * np.pi, 0.1)\n",
        "a = 1\n",
        "v1 = a * phi * np.cos(phi)\n",
        "v2 = a * phi * np.sin(phi)\n",
        "\n",
        "# Compute the cumulative distances along the path\n",
        "distances = np.cumsum(np.sqrt(np.diff(v1)**2 + np.diff(v2)**2))\n",
        "total_distance = distances[-1]\n",
        "\n",
        "# Define the number of equidistant samples\n",
        "num_samples = 200\n",
        "\n",
        "# Regular spaced path\n",
        "r_int = np.linspace(0, total_distance, num_samples)\n",
        "\n",
        "# Interpolating the path\n",
        "v1_int = np.interp(r_int, distances, v1)\n",
        "v2_int = np.interp(r_int, distances, v2)\n",
        "\n",
        "# Plotting the path\n",
        "plt.plot(v1_int, v2_int, label=\"Sampled Path\")\n",
        "plt.scatter(v1_int, v2_int, color='red', marker='o', label=\"Sampled Points\")\n",
        "plt.xlabel(\"v1\")\n",
        "plt.ylabel(\"v2\")\n",
        "plt.title(\"Sampled Path with Equidistant Samples\")\n",
        "plt.legend()\n",
        "plt.grid()\n",
        "plt.show()\n"
      ],
      "metadata": {
        "colab": {
          "base_uri": "https://localhost:8080/",
          "height": 332
        },
        "id": "ctXvDWpNuUIa",
        "outputId": "ce1ad84d-cdc8-405e-946b-e50c255b2b54"
      },
      "execution_count": 53,
      "outputs": [
        {
          "output_type": "error",
          "ename": "ValueError",
          "evalue": "fp and xp are not of the same length.",
          "traceback": [
            "\u001b[0;31m---------------------------------------------------------------------------\u001b[0m",
            "\u001b[0;31mValueError\u001b[0m                                Traceback (most recent call last)",
            "\u001b[0;32m<ipython-input-53-2c3fbf92fca4>\u001b[0m in \u001b[0;36m<cell line: 21>\u001b[0;34m()\u001b[0m\n\u001b[1;32m     19\u001b[0m \u001b[0;34m\u001b[0m\u001b[0m\n\u001b[1;32m     20\u001b[0m \u001b[0;31m# Interpolating the path\u001b[0m\u001b[0;34m\u001b[0m\u001b[0;34m\u001b[0m\u001b[0m\n\u001b[0;32m---> 21\u001b[0;31m \u001b[0mv1_int\u001b[0m \u001b[0;34m=\u001b[0m \u001b[0mnp\u001b[0m\u001b[0;34m.\u001b[0m\u001b[0minterp\u001b[0m\u001b[0;34m(\u001b[0m\u001b[0mr_int\u001b[0m\u001b[0;34m,\u001b[0m \u001b[0mdistances\u001b[0m\u001b[0;34m,\u001b[0m \u001b[0mv1\u001b[0m\u001b[0;34m)\u001b[0m\u001b[0;34m\u001b[0m\u001b[0;34m\u001b[0m\u001b[0m\n\u001b[0m\u001b[1;32m     22\u001b[0m \u001b[0mv2_int\u001b[0m \u001b[0;34m=\u001b[0m \u001b[0mnp\u001b[0m\u001b[0;34m.\u001b[0m\u001b[0minterp\u001b[0m\u001b[0;34m(\u001b[0m\u001b[0mr_int\u001b[0m\u001b[0;34m,\u001b[0m \u001b[0mdistances\u001b[0m\u001b[0;34m,\u001b[0m \u001b[0mv2\u001b[0m\u001b[0;34m)\u001b[0m\u001b[0;34m\u001b[0m\u001b[0;34m\u001b[0m\u001b[0m\n\u001b[1;32m     23\u001b[0m \u001b[0;34m\u001b[0m\u001b[0m\n",
            "\u001b[0;32m/usr/local/lib/python3.10/dist-packages/numpy/lib/function_base.py\u001b[0m in \u001b[0;36minterp\u001b[0;34m(x, xp, fp, left, right, period)\u001b[0m\n\u001b[1;32m   1597\u001b[0m         \u001b[0mfp\u001b[0m \u001b[0;34m=\u001b[0m \u001b[0mnp\u001b[0m\u001b[0;34m.\u001b[0m\u001b[0mconcatenate\u001b[0m\u001b[0;34m(\u001b[0m\u001b[0;34m(\u001b[0m\u001b[0mfp\u001b[0m\u001b[0;34m[\u001b[0m\u001b[0;34m-\u001b[0m\u001b[0;36m1\u001b[0m\u001b[0;34m:\u001b[0m\u001b[0;34m]\u001b[0m\u001b[0;34m,\u001b[0m \u001b[0mfp\u001b[0m\u001b[0;34m,\u001b[0m \u001b[0mfp\u001b[0m\u001b[0;34m[\u001b[0m\u001b[0;36m0\u001b[0m\u001b[0;34m:\u001b[0m\u001b[0;36m1\u001b[0m\u001b[0;34m]\u001b[0m\u001b[0;34m)\u001b[0m\u001b[0;34m)\u001b[0m\u001b[0;34m\u001b[0m\u001b[0;34m\u001b[0m\u001b[0m\n\u001b[1;32m   1598\u001b[0m \u001b[0;34m\u001b[0m\u001b[0m\n\u001b[0;32m-> 1599\u001b[0;31m     \u001b[0;32mreturn\u001b[0m \u001b[0minterp_func\u001b[0m\u001b[0;34m(\u001b[0m\u001b[0mx\u001b[0m\u001b[0;34m,\u001b[0m \u001b[0mxp\u001b[0m\u001b[0;34m,\u001b[0m \u001b[0mfp\u001b[0m\u001b[0;34m,\u001b[0m \u001b[0mleft\u001b[0m\u001b[0;34m,\u001b[0m \u001b[0mright\u001b[0m\u001b[0;34m)\u001b[0m\u001b[0;34m\u001b[0m\u001b[0;34m\u001b[0m\u001b[0m\n\u001b[0m\u001b[1;32m   1600\u001b[0m \u001b[0;34m\u001b[0m\u001b[0m\n\u001b[1;32m   1601\u001b[0m \u001b[0;34m\u001b[0m\u001b[0m\n",
            "\u001b[0;31mValueError\u001b[0m: fp and xp are not of the same length."
          ]
        }
      ]
    },
    {
      "cell_type": "markdown",
      "source": [
        " Given an integer n and a 2D array X, select from X the rows which can be interpreted as draws from a multinomial distribution with n degrees, i.e., the rows which only contain integers and which sum to n."
      ],
      "metadata": {
        "id": "r06bauzIs4GT"
      }
    },
    {
      "cell_type": "code",
      "source": [
        "import numpy as np\n",
        "\n",
        "def select_multinomial_rows(X, n):\n",
        "    # Check if rows contain only integers and sum to n\n",
        "    valid_rows = np.logical_and.reduce((X % 1 == 0, np.sum(X, axis=1) == n))\n",
        "\n",
        "    # Extract valid rows\n",
        "    selected_rows = X[valid_rows]\n",
        "\n",
        "    return selected_rows\n",
        "\n",
        "# Example usage\n",
        "X = np.array([[1, 2, 3],\n",
        "              [4, 5, 6],\n",
        "              [1, 2, 2],\n",
        "              [3, 3, 3],\n",
        "              [2, 2, 3]])\n",
        "\n",
        "n = 5\n",
        "result = select_multinomial_rows(X, n)\n",
        "\n",
        "print(\"Original array:\")\n",
        "print(X)\n",
        "print(\"\\nSelected rows as multinomial distribution with n =\", n)\n",
        "print(result)\n"
      ],
      "metadata": {
        "colab": {
          "base_uri": "https://localhost:8080/",
          "height": 349
        },
        "id": "wKv9mLCvs-KZ",
        "outputId": "888c397c-37fb-4716-e1a8-b489aac2418e"
      },
      "execution_count": 51,
      "outputs": [
        {
          "output_type": "error",
          "ename": "ValueError",
          "evalue": "setting an array element with a sequence. The requested array has an inhomogeneous shape after 2 dimensions. The detected shape was (2, 5) + inhomogeneous part.",
          "traceback": [
            "\u001b[0;31m---------------------------------------------------------------------------\u001b[0m",
            "\u001b[0;31mValueError\u001b[0m                                Traceback (most recent call last)",
            "\u001b[0;32m<ipython-input-51-88ff407f3790>\u001b[0m in \u001b[0;36m<cell line: 20>\u001b[0;34m()\u001b[0m\n\u001b[1;32m     18\u001b[0m \u001b[0;34m\u001b[0m\u001b[0m\n\u001b[1;32m     19\u001b[0m \u001b[0mn\u001b[0m \u001b[0;34m=\u001b[0m \u001b[0;36m5\u001b[0m\u001b[0;34m\u001b[0m\u001b[0;34m\u001b[0m\u001b[0m\n\u001b[0;32m---> 20\u001b[0;31m \u001b[0mresult\u001b[0m \u001b[0;34m=\u001b[0m \u001b[0mselect_multinomial_rows\u001b[0m\u001b[0;34m(\u001b[0m\u001b[0mX\u001b[0m\u001b[0;34m,\u001b[0m \u001b[0mn\u001b[0m\u001b[0;34m)\u001b[0m\u001b[0;34m\u001b[0m\u001b[0;34m\u001b[0m\u001b[0m\n\u001b[0m\u001b[1;32m     21\u001b[0m \u001b[0;34m\u001b[0m\u001b[0m\n\u001b[1;32m     22\u001b[0m \u001b[0mprint\u001b[0m\u001b[0;34m(\u001b[0m\u001b[0;34m\"Original array:\"\u001b[0m\u001b[0;34m)\u001b[0m\u001b[0;34m\u001b[0m\u001b[0;34m\u001b[0m\u001b[0m\n",
            "\u001b[0;32m<ipython-input-51-88ff407f3790>\u001b[0m in \u001b[0;36mselect_multinomial_rows\u001b[0;34m(X, n)\u001b[0m\n\u001b[1;32m      3\u001b[0m \u001b[0;32mdef\u001b[0m \u001b[0mselect_multinomial_rows\u001b[0m\u001b[0;34m(\u001b[0m\u001b[0mX\u001b[0m\u001b[0;34m,\u001b[0m \u001b[0mn\u001b[0m\u001b[0;34m)\u001b[0m\u001b[0;34m:\u001b[0m\u001b[0;34m\u001b[0m\u001b[0;34m\u001b[0m\u001b[0m\n\u001b[1;32m      4\u001b[0m     \u001b[0;31m# Check if rows contain only integers and sum to n\u001b[0m\u001b[0;34m\u001b[0m\u001b[0;34m\u001b[0m\u001b[0m\n\u001b[0;32m----> 5\u001b[0;31m     \u001b[0mvalid_rows\u001b[0m \u001b[0;34m=\u001b[0m \u001b[0mnp\u001b[0m\u001b[0;34m.\u001b[0m\u001b[0mlogical_and\u001b[0m\u001b[0;34m.\u001b[0m\u001b[0mreduce\u001b[0m\u001b[0;34m(\u001b[0m\u001b[0;34m(\u001b[0m\u001b[0mX\u001b[0m \u001b[0;34m%\u001b[0m \u001b[0;36m1\u001b[0m \u001b[0;34m==\u001b[0m \u001b[0;36m0\u001b[0m\u001b[0;34m,\u001b[0m \u001b[0mnp\u001b[0m\u001b[0;34m.\u001b[0m\u001b[0msum\u001b[0m\u001b[0;34m(\u001b[0m\u001b[0mX\u001b[0m\u001b[0;34m,\u001b[0m \u001b[0maxis\u001b[0m\u001b[0;34m=\u001b[0m\u001b[0;36m1\u001b[0m\u001b[0;34m)\u001b[0m \u001b[0;34m==\u001b[0m \u001b[0mn\u001b[0m\u001b[0;34m)\u001b[0m\u001b[0;34m)\u001b[0m\u001b[0;34m\u001b[0m\u001b[0;34m\u001b[0m\u001b[0m\n\u001b[0m\u001b[1;32m      6\u001b[0m \u001b[0;34m\u001b[0m\u001b[0m\n\u001b[1;32m      7\u001b[0m     \u001b[0;31m# Extract valid rows\u001b[0m\u001b[0;34m\u001b[0m\u001b[0;34m\u001b[0m\u001b[0m\n",
            "\u001b[0;31mValueError\u001b[0m: setting an array element with a sequence. The requested array has an inhomogeneous shape after 2 dimensions. The detected shape was (2, 5) + inhomogeneous part."
          ]
        }
      ]
    },
    {
      "cell_type": "markdown",
      "source": [
        "Compute bootstrapped 95% confidence intervals for the mean of a 1D array X (i.e., resample the elements of an array with replacement N times, compute the mean of each sample, and then compute percentiles over the means)."
      ],
      "metadata": {
        "id": "iX5nPPV5t7n8"
      }
    },
    {
      "cell_type": "code",
      "source": [
        "import numpy as np\n",
        "\n",
        "# Example 1D array X (you can replace this with your own data)\n",
        "X = np.array([1, 2, 3, 4, 5, 6, 7, 8, 9, 10])\n",
        "\n",
        "# Number of bootstrap samples\n",
        "N = 10000\n",
        "\n",
        "# Initialize an empty array to store bootstrap sample means\n",
        "bootstrap_means = np.zeros(N)\n",
        "\n",
        "# Perform bootstrapping\n",
        "for i in range(N):\n",
        "    # Resample with replacement\n",
        "    resampled_X = np.random.choice(X, size=len(X), replace=True)\n",
        "    # Compute the mean of the resampled data\n",
        "    bootstrap_means[i] = np.mean(resampled_X)\n",
        "\n",
        "# Compute the 95% confidence interval\n",
        "confidence_interval = np.percentile(bootstrap_means, [2.5, 97.5])\n",
        "\n",
        "print(\"Original data (X):\", X)\n",
        "print(\"Bootstrapped 95% confidence interval for the mean:\")\n",
        "print(f\"Lower bound: {confidence_interval[0]:.2f}\")\n",
        "print(f\"Upper bound: {confidence_interval[1]:.2f}\")\n"
      ],
      "metadata": {
        "colab": {
          "base_uri": "https://localhost:8080/"
        },
        "id": "UQK-AdJ6t9pa",
        "outputId": "cd33c747-6068-4c3a-f6d2-3a604646aac9"
      },
      "execution_count": 52,
      "outputs": [
        {
          "output_type": "stream",
          "name": "stdout",
          "text": [
            "Original data (X): [ 1  2  3  4  5  6  7  8  9 10]\n",
            "Bootstrapped 95% confidence interval for the mean:\n",
            "Lower bound: 3.70\n",
            "Upper bound: 7.30\n"
          ]
        }
      ]
    },
    {
      "cell_type": "code",
      "source": [],
      "metadata": {
        "id": "SepkCxTbuB4j"
      },
      "execution_count": null,
      "outputs": []
    }
  ]
}