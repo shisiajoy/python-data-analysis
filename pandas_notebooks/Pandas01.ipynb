{
  "nbformat": 4,
  "nbformat_minor": 0,
  "metadata": {
    "colab": {
      "provenance": [],
      "authorship_tag": "ABX9TyNkc+TGin3eDscDSvOSpp9Y",
      "include_colab_link": true
    },
    "kernelspec": {
      "name": "python3",
      "display_name": "Python 3"
    },
    "language_info": {
      "name": "python"
    }
  },
  "cells": [
    {
      "cell_type": "markdown",
      "metadata": {
        "id": "view-in-github",
        "colab_type": "text"
      },
      "source": [
        "<a href=\"https://colab.research.google.com/github/Shisiajoy/PYTHON-DATA-ANALYSIS/blob/main/Pandas01.ipynb\" target=\"_parent\"><img src=\"https://colab.research.google.com/assets/colab-badge.svg\" alt=\"Open In Colab\"/></a>"
      ]
    },
    {
      "cell_type": "markdown",
      "source": [
        "**Pokemon**\n",
        "Introduction:\n",
        "\n",
        "Step 1. Import the necessary libraries"
      ],
      "metadata": {
        "id": "FhxXqh9pbEyM"
      }
    },
    {
      "cell_type": "code",
      "execution_count": null,
      "metadata": {
        "id": "VT-DxoWXao31"
      },
      "outputs": [],
      "source": [
        "import pandas as pd\n",
        "import numpy as np\n"
      ]
    },
    {
      "cell_type": "markdown",
      "source": [
        "Step 2. Create a data dictionary that looks like the DataFrame below"
      ],
      "metadata": {
        "id": "p4XPTiazbRTH"
      }
    },
    {
      "cell_type": "code",
      "source": [
        "\n",
        "data = {\n",
        "    'name': ['Bulbasaur', 'Charmander', 'Squirtle', 'Caterpie'],\n",
        "    'type': ['grass', 'fire', 'water', 'bug'],\n",
        "    'hp': [45, 39, 44, 45],\n",
        "    'evolution': ['Ivysaur', 'Charmeleon', 'Wartortle', 'Metapod'],\n",
        "    'pokedex': ['yes', 'no', 'yes', 'no']\n",
        "}\n"
      ],
      "metadata": {
        "id": "SgWoZyowbCps"
      },
      "execution_count": null,
      "outputs": []
    },
    {
      "cell_type": "markdown",
      "source": [
        "Step 3. Assign it to a variable called pokemon"
      ],
      "metadata": {
        "id": "QIWxR52lbDkc"
      }
    },
    {
      "cell_type": "code",
      "source": [
        "pokemon = pd.DataFrame(data)"
      ],
      "metadata": {
        "id": "NXTnNt6-eDe2"
      },
      "execution_count": null,
      "outputs": []
    },
    {
      "cell_type": "markdown",
      "source": [
        "\tevolution\thp\tname\tpokedex\ttype\n",
        "0\tIvysaur\t45\tBulbasaur\tyes\tgrass\n",
        "1\tCharmeleon\t39\tCharmander\tno\tfire\n",
        "2\tWartortle\t44\tSquirtle\tyes\twater\n",
        "3\tMetapod\t45\tCaterpie\tno\tbug\n",
        "Step 4. Ops...it seems the DataFrame columns are in alphabetical order. Place the order of the columns as name, type, hp, evolution, pokedex"
      ],
      "metadata": {
        "id": "Ve2BqMOZeKRB"
      }
    },
    {
      "cell_type": "code",
      "source": [
        "pokemon = pokemon[['name', 'type', 'hp', 'evolution', 'pokedex']]"
      ],
      "metadata": {
        "id": "rjBPvANWeInZ"
      },
      "execution_count": null,
      "outputs": []
    },
    {
      "cell_type": "markdown",
      "source": [
        "Step 5. Add another column called place, and insert what you have in mind."
      ],
      "metadata": {
        "id": "RWs8yuUNed8-"
      }
    },
    {
      "cell_type": "code",
      "source": [
        "pokemon['place'] = ['Forest', 'Volcano', 'Ocean', 'Field']\n"
      ],
      "metadata": {
        "id": "IBZAz1cFejj-"
      },
      "execution_count": null,
      "outputs": []
    },
    {
      "cell_type": "markdown",
      "source": [
        "Step 6. Present the type of each column\n"
      ],
      "metadata": {
        "id": "s-Io5F9Ner5b"
      }
    },
    {
      "cell_type": "code",
      "source": [
        "print(pokemon.dtypes)\n"
      ],
      "metadata": {
        "colab": {
          "base_uri": "https://localhost:8080/"
        },
        "id": "enRcn68MeqJ1",
        "outputId": "f3cff791-1cc1-45cb-9ae5-a13541612f14"
      },
      "execution_count": null,
      "outputs": [
        {
          "output_type": "stream",
          "name": "stdout",
          "text": [
            "name         object\n",
            "type         object\n",
            "hp            int64\n",
            "evolution    object\n",
            "pokedex      object\n",
            "place        object\n",
            "dtype: object\n"
          ]
        }
      ]
    },
    {
      "cell_type": "markdown",
      "source": [
        "BONUS: Create your own question and answer it.\n"
      ],
      "metadata": {
        "id": "0jTS1qM9e_KC"
      }
    },
    {
      "cell_type": "code",
      "source": [
        "\n",
        "print(\"\\nWhat is the total number of Pokemon?\")\n",
        "print(\"Total number of Pokemon:\", len(pokemon))\n"
      ],
      "metadata": {
        "colab": {
          "base_uri": "https://localhost:8080/"
        },
        "id": "o2gbwcUEe2Bw",
        "outputId": "64c3153d-c3df-401b-9ae4-71418b018987"
      },
      "execution_count": null,
      "outputs": [
        {
          "output_type": "stream",
          "name": "stdout",
          "text": [
            "\n",
            "What is the total number of Pokemon?\n",
            "Total number of Pokemon: 4\n"
          ]
        }
      ]
    },
    {
      "cell_type": "markdown",
      "source": [
        "introduction to pandas"
      ],
      "metadata": {
        "id": "hcfBRL2fPtq_"
      }
    },
    {
      "cell_type": "code",
      "source": [],
      "metadata": {
        "id": "Z_LfVl7QfNcT"
      },
      "execution_count": null,
      "outputs": []
    }
  ]
}