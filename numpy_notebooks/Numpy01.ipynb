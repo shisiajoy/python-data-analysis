{
  "nbformat": 4,
  "nbformat_minor": 0,
  "metadata": {
    "colab": {
      "provenance": [],
      "authorship_tag": "ABX9TyPM2coSMHPvAw8GTU9xJkup",
      "include_colab_link": true
    },
    "kernelspec": {
      "name": "python3",
      "display_name": "Python 3"
    },
    "language_info": {
      "name": "python"
    }
  },
  "cells": [
    {
      "cell_type": "markdown",
      "metadata": {
        "id": "view-in-github",
        "colab_type": "text"
      },
      "source": [
        "<a href=\"https://colab.research.google.com/github/Shisiajoy/PYTHON-DATA-ANALYSIS/blob/main/Numpy01.ipynb\" target=\"_parent\"><img src=\"https://colab.research.google.com/assets/colab-badge.svg\" alt=\"Open In Colab\"/></a>"
      ]
    },
    {
      "cell_type": "code",
      "execution_count": 1,
      "metadata": {
        "id": "2AZWxZMfrYoe"
      },
      "outputs": [],
      "source": [
        "import numpy as np"
      ]
    },
    {
      "cell_type": "markdown",
      "source": [
        "creating a null vector of size 10"
      ],
      "metadata": {
        "id": "WejUH6X5zUyF"
      }
    },
    {
      "cell_type": "code",
      "source": [
        "null_vector = np.zeros(10)\n",
        "print(f\"Null vector of size 10: {null_vector}\")\n",
        "\n"
      ],
      "metadata": {
        "colab": {
          "base_uri": "https://localhost:8080/"
        },
        "id": "QWg5Y3m6rkaT",
        "outputId": "3817a33e-f191-4040-d105-40ec97488c78"
      },
      "execution_count": 2,
      "outputs": [
        {
          "output_type": "stream",
          "name": "stdout",
          "text": [
            "Null vector of size 10: [0. 0. 0. 0. 0. 0. 0. 0. 0. 0.]\n"
          ]
        }
      ]
    },
    {
      "cell_type": "markdown",
      "source": [
        "finding memory size of an array\n"
      ],
      "metadata": {
        "id": "M0lQ_khVzmPp"
      }
    },
    {
      "cell_type": "code",
      "source": [
        "print(f\"Memory size of the null vector: {null_vector.nbytes} bytes\")\n"
      ],
      "metadata": {
        "colab": {
          "base_uri": "https://localhost:8080/"
        },
        "id": "1JDggwm8zqUI",
        "outputId": "832c28ae-d9bb-48d4-e984-bf6c43bb3c2e"
      },
      "execution_count": 3,
      "outputs": [
        {
          "output_type": "stream",
          "name": "stdout",
          "text": [
            "Memory size of the null vector: 80 bytes\n"
          ]
        }
      ]
    },
    {
      "cell_type": "markdown",
      "source": [
        "creat a null vector of size 10 and 1 as fifth value"
      ],
      "metadata": {
        "id": "2QvAp0mR0WN5"
      }
    },
    {
      "cell_type": "code",
      "source": [
        "null_vector = np.zeros(10)\n",
        "null_vector[4] = 1\n",
        "print(f\"Null vector of size 10 with the fifth value as 1: {null_vector}\")\n"
      ],
      "metadata": {
        "colab": {
          "base_uri": "https://localhost:8080/"
        },
        "id": "y-dBcjEJ0hPP",
        "outputId": "4e13746f-704c-4ecf-b73c-0af14497a365"
      },
      "execution_count": 4,
      "outputs": [
        {
          "output_type": "stream",
          "name": "stdout",
          "text": [
            "Null vector of size 10 with the fifth value as 1: [0. 0. 0. 0. 1. 0. 0. 0. 0. 0.]\n"
          ]
        }
      ]
    },
    {
      "cell_type": "markdown",
      "source": [
        "creat a vector ranging from 10 to 49"
      ],
      "metadata": {
        "id": "RPLp0kRf0kK8"
      }
    },
    {
      "cell_type": "code",
      "source": [
        "vector = np.arange(10, 50)\n",
        "print(f\"Vector with values ranging from 10 to 49: {vector}\")\n"
      ],
      "metadata": {
        "colab": {
          "base_uri": "https://localhost:8080/"
        },
        "id": "Dwgxjz16008r",
        "outputId": "7d2cba68-9d5c-4c3d-a3cf-f18b56f9b41f"
      },
      "execution_count": 5,
      "outputs": [
        {
          "output_type": "stream",
          "name": "stdout",
          "text": [
            "Vector with values ranging from 10 to 49: [10 11 12 13 14 15 16 17 18 19 20 21 22 23 24 25 26 27 28 29 30 31 32 33\n",
            " 34 35 36 37 38 39 40 41 42 43 44 45 46 47 48 49]\n"
          ]
        }
      ]
    },
    {
      "cell_type": "markdown",
      "source": [
        "reverse a vector (first element becomes first)"
      ],
      "metadata": {
        "id": "We3Q3XZz0-dn"
      }
    },
    {
      "cell_type": "code",
      "source": [
        "reversed_vector = vector[::-1]\n",
        "print(f\"Reversed vector: {reversed_vector}\")\n"
      ],
      "metadata": {
        "colab": {
          "base_uri": "https://localhost:8080/"
        },
        "id": "HIF2_NMp1Gqp",
        "outputId": "6cc2d4d9-f75b-4e21-8b44-c8612f0d935d"
      },
      "execution_count": 6,
      "outputs": [
        {
          "output_type": "stream",
          "name": "stdout",
          "text": [
            "Reversed vector: [49 48 47 46 45 44 43 42 41 40 39 38 37 36 35 34 33 32 31 30 29 28 27 26\n",
            " 25 24 23 22 21 20 19 18 17 16 15 14 13 12 11 10]\n"
          ]
        }
      ]
    },
    {
      "cell_type": "markdown",
      "source": [
        "3 x 3 matrix ranging from 0 to 8"
      ],
      "metadata": {
        "id": "GlquFGBm1RYY"
      }
    },
    {
      "cell_type": "code",
      "source": [
        "matrix_3x3 = np.arange(9).reshape(3, 3)\n",
        "print(f\"3x3 matrix with values ranging from 0 to 8:\\n{matrix_3x3}\")\n"
      ],
      "metadata": {
        "colab": {
          "base_uri": "https://localhost:8080/"
        },
        "id": "7BON-ZnY1eWs",
        "outputId": "7d3fa0f7-c28b-4b45-9422-8219ba908ee1"
      },
      "execution_count": 7,
      "outputs": [
        {
          "output_type": "stream",
          "name": "stdout",
          "text": [
            "3x3 matrix with values ranging from 0 to 8:\n",
            "[[0 1 2]\n",
            " [3 4 5]\n",
            " [6 7 8]]\n"
          ]
        }
      ]
    },
    {
      "cell_type": "markdown",
      "source": [
        "Indices of Non-Zero Elements from [1, 2, 0, 0, 4, 0]"
      ],
      "metadata": {
        "id": "tksg5Fb91m-U"
      }
    },
    {
      "cell_type": "code",
      "source": [
        "my_list = [1, 2, 0, 0, 4, 0]\n",
        "non_zero_indices = np.nonzero(my_list)\n",
        "print(f\"Indices of non-zero elements: {non_zero_indices[0]}\")\n"
      ],
      "metadata": {
        "colab": {
          "base_uri": "https://localhost:8080/"
        },
        "id": "OjIDqNwm1wdH",
        "outputId": "5a90e05f-4f29-42e3-b8f0-de074cd2d1ad"
      },
      "execution_count": 8,
      "outputs": [
        {
          "output_type": "stream",
          "name": "stdout",
          "text": [
            "Indices of non-zero elements: [0 1 4]\n"
          ]
        }
      ]
    },
    {
      "cell_type": "markdown",
      "source": [
        "a 3x3x3 Array with Random Values"
      ],
      "metadata": {
        "id": "ahrDL8Dq1-_x"
      }
    },
    {
      "cell_type": "code",
      "source": [
        "random_3d_array = np.random.random((3, 3, 3))\n",
        "print(f\"3x3x3 array with random values:\\n{random_3d_array}\")\n"
      ],
      "metadata": {
        "colab": {
          "base_uri": "https://localhost:8080/"
        },
        "id": "6a8pi3793ilU",
        "outputId": "47fc52f2-f754-4f73-d5fc-e9ed7a21d826"
      },
      "execution_count": 9,
      "outputs": [
        {
          "output_type": "stream",
          "name": "stdout",
          "text": [
            "3x3x3 array with random values:\n",
            "[[[0.22995643 0.72606337 0.89394901]\n",
            "  [0.49352411 0.21870061 0.97023324]\n",
            "  [0.52898839 0.39471952 0.77306278]]\n",
            "\n",
            " [[0.47627283 0.29892057 0.43743617]\n",
            "  [0.42007257 0.88878359 0.58327555]\n",
            "  [0.73771976 0.7214812  0.37118023]]\n",
            "\n",
            " [[0.49302933 0.18690506 0.70522386]\n",
            "  [0.6539208  0.58788158 0.92261886]\n",
            "  [0.31010229 0.19170296 0.52259676]]]\n"
          ]
        }
      ]
    },
    {
      "cell_type": "markdown",
      "source": [
        "a 10x10 Array with Random Values and Find the Minimum and Maximum Values"
      ],
      "metadata": {
        "id": "id5lClJM3gce"
      }
    },
    {
      "cell_type": "code",
      "source": [
        "random_10x10_array = np.random.random((10, 10))\n",
        "min_value = np.min(random_10x10_array)\n",
        "max_value = np.max(random_10x10_array)\n",
        "print(f\"10x10 array with random values:\\n{random_10x10_array}\")\n",
        "print(f\"Minimum value: {min_value:.4f}\")\n",
        "print(f\"Maximum value: {max_value:.4f}\")\n"
      ],
      "metadata": {
        "colab": {
          "base_uri": "https://localhost:8080/"
        },
        "id": "9AE1-ldw4YGP",
        "outputId": "46bd6820-85ff-4bd2-dd4b-6deb032d76d9"
      },
      "execution_count": 10,
      "outputs": [
        {
          "output_type": "stream",
          "name": "stdout",
          "text": [
            "10x10 array with random values:\n",
            "[[0.71105222 0.85750211 0.23129222 0.7579419  0.79417956 0.61571125\n",
            "  0.24322934 0.79746574 0.0974173  0.20940324]\n",
            " [0.91894641 0.75117248 0.90899716 0.69061607 0.38476895 0.31614399\n",
            "  0.42134233 0.3106013  0.53996724 0.25833943]\n",
            " [0.21440659 0.90151774 0.84919884 0.86098087 0.63468162 0.44229314\n",
            "  0.2034966  0.8538552  0.02842312 0.62434025]\n",
            " [0.02153188 0.05637807 0.93433203 0.98431386 0.57358564 0.94899003\n",
            "  0.97096128 0.13637818 0.11885048 0.66362784]\n",
            " [0.93251191 0.04432038 0.9105385  0.24254188 0.46059665 0.18686079\n",
            "  0.78732016 0.7391348  0.86714681 0.99779788]\n",
            " [0.88264303 0.33354109 0.31900246 0.50807889 0.07380833 0.25459462\n",
            "  0.49032356 0.30516051 0.56257552 0.6439041 ]\n",
            " [0.68611871 0.95019541 0.08029435 0.1372997  0.87335799 0.37525288\n",
            "  0.09493049 0.10219319 0.47873015 0.29414603]\n",
            " [0.54563163 0.1638961  0.97013478 0.92142709 0.3274749  0.83120283\n",
            "  0.62942841 0.06052423 0.16991912 0.88380325]\n",
            " [0.36561968 0.14939542 0.56407935 0.23059791 0.05745367 0.71199032\n",
            "  0.15378854 0.23326591 0.53617009 0.22941252]\n",
            " [0.99029169 0.54870311 0.1558766  0.82869664 0.32841931 0.64669038\n",
            "  0.86347908 0.47177541 0.48862138 0.80831349]]\n",
            "Minimum value: 0.0215\n",
            "Maximum value: 0.9978\n"
          ]
        }
      ]
    },
    {
      "cell_type": "markdown",
      "source": [],
      "metadata": {
        "id": "7Q3z6Wx910cH"
      }
    }
  ]
}