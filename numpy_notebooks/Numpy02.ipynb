{
  "nbformat": 4,
  "nbformat_minor": 0,
  "metadata": {
    "colab": {
      "provenance": [],
      "authorship_tag": "ABX9TyPD7X3gRTZ9V8fq963ELfSV",
      "include_colab_link": true
    },
    "kernelspec": {
      "name": "python3",
      "display_name": "Python 3"
    },
    "language_info": {
      "name": "python"
    }
  },
  "cells": [
    {
      "cell_type": "markdown",
      "metadata": {
        "id": "view-in-github",
        "colab_type": "text"
      },
      "source": [
        "<a href=\"https://colab.research.google.com/github/Shisiajoy/PYTHON-DATA-ANALYSIS/blob/main/Numpy02.ipynb\" target=\"_parent\"><img src=\"https://colab.research.google.com/assets/colab-badge.svg\" alt=\"Open In Colab\"/></a>"
      ]
    },
    {
      "cell_type": "code",
      "execution_count": null,
      "metadata": {
        "id": "SdSJtDmdCrKD"
      },
      "outputs": [],
      "source": [
        "import numpy as np"
      ]
    },
    {
      "cell_type": "markdown",
      "source": [
        "How to add a border (filled with 0's) around an existing array?"
      ],
      "metadata": {
        "id": "xY1lRVXKCyPZ"
      }
    },
    {
      "cell_type": "code",
      "source": [
        "import numpy as np\n",
        "\n",
        "existing_array = np.array([[1, 2, 3],\n",
        "                           [4, 5, 6],\n",
        "                           [7, 8, 9]])\n",
        "\n",
        "rows, cols = existing_array.shape\n",
        "\n",
        "# Create a new array with the desired shape (adding 2 to each dimension for the border)\n",
        "new_array = np.zeros((rows + 2, cols + 2), dtype=existing_array.dtype)\n",
        "\n",
        "# Copy the existing array into the center of the new array\n",
        "new_array[1:-1, 1:-1] = existing_array\n",
        "\n",
        "print(new_array)\n"
      ],
      "metadata": {
        "colab": {
          "base_uri": "https://localhost:8080/"
        },
        "id": "NFHIuJ3nEI8f",
        "outputId": "6650df43-5300-41c6-d81b-17618cf6ade5"
      },
      "execution_count": 1,
      "outputs": [
        {
          "output_type": "stream",
          "name": "stdout",
          "text": [
            "[[0 0 0 0 0]\n",
            " [0 1 2 3 0]\n",
            " [0 4 5 6 0]\n",
            " [0 7 8 9 0]\n",
            " [0 0 0 0 0]]\n"
          ]
        }
      ]
    },
    {
      "cell_type": "markdown",
      "source": [
        "Results of the following"
      ],
      "metadata": {
        "id": "bZ93IwZvE8bi"
      }
    },
    {
      "cell_type": "code",
      "source": [
        "0 * np.nan"
      ],
      "metadata": {
        "colab": {
          "base_uri": "https://localhost:8080/"
        },
        "id": "RAgzbpYMFBqH",
        "outputId": "38f47935-7a49-4071-f8fa-4a03016e102f"
      },
      "execution_count": 2,
      "outputs": [
        {
          "output_type": "execute_result",
          "data": {
            "text/plain": [
              "nan"
            ]
          },
          "metadata": {},
          "execution_count": 2
        }
      ]
    },
    {
      "cell_type": "code",
      "source": [
        "np.nan == np.nan"
      ],
      "metadata": {
        "colab": {
          "base_uri": "https://localhost:8080/"
        },
        "id": "aIAN36uoFEII",
        "outputId": "8236dc4b-7342-4e75-8012-57c5a94eb970"
      },
      "execution_count": 3,
      "outputs": [
        {
          "output_type": "execute_result",
          "data": {
            "text/plain": [
              "False"
            ]
          },
          "metadata": {},
          "execution_count": 3
        }
      ]
    },
    {
      "cell_type": "code",
      "source": [
        "np.inf > np.nan"
      ],
      "metadata": {
        "colab": {
          "base_uri": "https://localhost:8080/"
        },
        "id": "D-sMEmrgFJK2",
        "outputId": "416ef661-dea3-4b12-e809-f35b72240e71"
      },
      "execution_count": 4,
      "outputs": [
        {
          "output_type": "execute_result",
          "data": {
            "text/plain": [
              "False"
            ]
          },
          "metadata": {},
          "execution_count": 4
        }
      ]
    },
    {
      "cell_type": "code",
      "source": [
        "\n",
        "np.nan - np.nan"
      ],
      "metadata": {
        "colab": {
          "base_uri": "https://localhost:8080/"
        },
        "id": "mks-SOSfFWFO",
        "outputId": "36d55dcc-b0da-4706-e8b2-29947f2527f1"
      },
      "execution_count": 5,
      "outputs": [
        {
          "output_type": "execute_result",
          "data": {
            "text/plain": [
              "nan"
            ]
          },
          "metadata": {},
          "execution_count": 5
        }
      ]
    },
    {
      "cell_type": "code",
      "source": [
        "np.nan in set([np.nan])"
      ],
      "metadata": {
        "colab": {
          "base_uri": "https://localhost:8080/"
        },
        "id": "2o9UuGMAFYmo",
        "outputId": "2a964ebd-0ea3-4499-a0f0-a51439e94abf"
      },
      "execution_count": 6,
      "outputs": [
        {
          "output_type": "execute_result",
          "data": {
            "text/plain": [
              "True"
            ]
          },
          "metadata": {},
          "execution_count": 6
        }
      ]
    },
    {
      "cell_type": "code",
      "source": [
        "0.3 == 3 * 0.1"
      ],
      "metadata": {
        "colab": {
          "base_uri": "https://localhost:8080/"
        },
        "id": "aqJnUleTFfqM",
        "outputId": "c73da3a3-accf-48ae-963f-499b35179b15"
      },
      "execution_count": 7,
      "outputs": [
        {
          "output_type": "execute_result",
          "data": {
            "text/plain": [
              "False"
            ]
          },
          "metadata": {},
          "execution_count": 7
        }
      ]
    },
    {
      "cell_type": "code",
      "source": [
        "0 * np.nan\n",
        "np.nan == np.nan\n",
        "np.inf > np.nan\n",
        "np.nan - np.nan\n",
        "np.nan in set([np.nan])\n",
        "0.3 == 3 * 0.1"
      ],
      "metadata": {
        "colab": {
          "base_uri": "https://localhost:8080/"
        },
        "id": "ANaYKImHFlIA",
        "outputId": "29619573-5b9a-444d-d6f0-1ae6d0a060e1"
      },
      "execution_count": 8,
      "outputs": [
        {
          "output_type": "execute_result",
          "data": {
            "text/plain": [
              "False"
            ]
          },
          "metadata": {},
          "execution_count": 8
        }
      ]
    },
    {
      "cell_type": "markdown",
      "source": [
        "Create a 8x8 matrix and fill it with a checkerboard pattern"
      ],
      "metadata": {
        "id": "Xc5s-Z_0Mu1J"
      }
    },
    {
      "cell_type": "code",
      "source": [
        "import numpy as np\n",
        "\n",
        "# Create an 8x8 matrix filled with zeros\n",
        "matrix = np.zeros((8, 8))\n",
        "\n",
        "for i in range(8):\n",
        "    for j in range(8):\n",
        "        # If the sum of row index and column index is even, fill with 1\n",
        "        if (i + j) % 2 == 0:\n",
        "            matrix[i][j] = 1\n",
        "\n",
        "print(matrix)\n"
      ],
      "metadata": {
        "colab": {
          "base_uri": "https://localhost:8080/"
        },
        "id": "0KiohALcFqgt",
        "outputId": "fd1bac24-858b-4ac4-8925-8bceff1547d4"
      },
      "execution_count": 9,
      "outputs": [
        {
          "output_type": "stream",
          "name": "stdout",
          "text": [
            "[[1. 0. 1. 0. 1. 0. 1. 0.]\n",
            " [0. 1. 0. 1. 0. 1. 0. 1.]\n",
            " [1. 0. 1. 0. 1. 0. 1. 0.]\n",
            " [0. 1. 0. 1. 0. 1. 0. 1.]\n",
            " [1. 0. 1. 0. 1. 0. 1. 0.]\n",
            " [0. 1. 0. 1. 0. 1. 0. 1.]\n",
            " [1. 0. 1. 0. 1. 0. 1. 0.]\n",
            " [0. 1. 0. 1. 0. 1. 0. 1.]]\n"
          ]
        }
      ]
    },
    {
      "cell_type": "markdown",
      "source": [
        "Consider a (6,7,8) shape array, what is the index (x,y,z) of the 100th element?"
      ],
      "metadata": {
        "id": "uv4Atp8aYU1a"
      }
    },
    {
      "cell_type": "code",
      "source": [
        "import numpy as np\n",
        "\n",
        "# Create a (6, 7, 8) shape array\n",
        "array_shape = (6, 7, 8)\n",
        "total_elements = np.prod(array_shape)\n",
        "\n",
        "element_index = 99\n",
        "\n",
        "# Calculate the (x, y, z) indices\n",
        "z_index, remainder = divmod(element_index, array_shape[2])\n",
        "y_index, x_index = divmod(remainder, array_shape[1])\n",
        "\n",
        "print(f\"The index (x, y, z) of the 100th element is ({x_index}, {y_index}, {z_index}).\")\n"
      ],
      "metadata": {
        "colab": {
          "base_uri": "https://localhost:8080/"
        },
        "id": "pkelnwmiM92J",
        "outputId": "8b4af6d6-a4ad-4bf7-8b56-e03c75c8e193"
      },
      "execution_count": 1,
      "outputs": [
        {
          "output_type": "stream",
          "name": "stdout",
          "text": [
            "The index (x, y, z) of the 100th element is (3, 0, 12).\n"
          ]
        }
      ]
    },
    {
      "cell_type": "markdown",
      "source": [
        "Create a checkerboard 8x8 matrix using the tile function"
      ],
      "metadata": {
        "id": "R0l7PiAnahdL"
      }
    },
    {
      "cell_type": "code",
      "source": [
        "import numpy as np\n",
        "\n",
        "# Create a 2x2 checkerboard pattern\n",
        "checkerboard_tile = np.array([[0, 1], [1, 0]])\n",
        "\n",
        "# Create an 8x8 checkerboard matrix by tiling the 2x2 pattern\n",
        "checkerboard_matrix = np.tile(checkerboard_tile, (4, 4))\n",
        "\n",
        "print(checkerboard_matrix)\n"
      ],
      "metadata": {
        "colab": {
          "base_uri": "https://localhost:8080/"
        },
        "id": "ymx9-27xaX0c",
        "outputId": "6ad7a65e-3400-495d-a9d4-35d62cf74a8b"
      },
      "execution_count": 2,
      "outputs": [
        {
          "output_type": "stream",
          "name": "stdout",
          "text": [
            "[[0 1 0 1 0 1 0 1]\n",
            " [1 0 1 0 1 0 1 0]\n",
            " [0 1 0 1 0 1 0 1]\n",
            " [1 0 1 0 1 0 1 0]\n",
            " [0 1 0 1 0 1 0 1]\n",
            " [1 0 1 0 1 0 1 0]\n",
            " [0 1 0 1 0 1 0 1]\n",
            " [1 0 1 0 1 0 1 0]]\n"
          ]
        }
      ]
    },
    {
      "cell_type": "code",
      "source": [
        "import numpy as np\n",
        "\n",
        "# Create a 5x5 random matrix\n",
        "random_matrix = np.random.rand(5, 5)\n",
        "\n",
        "# Normalize the matrix by dividing each element by the sum of all elements\n",
        "normalized_matrix = random_matrix / np.sum(random_matrix)\n",
        "\n",
        "# Print the original and normalized matrices\n",
        "print(\"Original Matrix:\")\n",
        "print(random_matrix)\n",
        "print(\"\\nNormalized Matrix:\")\n",
        "print(normalized_matrix)\n"
      ],
      "metadata": {
        "colab": {
          "base_uri": "https://localhost:8080/"
        },
        "id": "j2KZ6suncQ8C",
        "outputId": "1c33a87c-81e9-400f-ca7a-0fb09fdfd5bc"
      },
      "execution_count": 3,
      "outputs": [
        {
          "output_type": "stream",
          "name": "stdout",
          "text": [
            "Original Matrix:\n",
            "[[0.03704438 0.08841753 0.34207548 0.2838593  0.36007813]\n",
            " [0.46435715 0.43829493 0.90453099 0.65922248 0.38853685]\n",
            " [0.01050633 0.6832006  0.93400744 0.86893588 0.86316612]\n",
            " [0.39952035 0.43639761 0.06976933 0.19453553 0.81664794]\n",
            " [0.57277139 0.13102133 0.83033948 0.48712426 0.33450999]]\n",
            "\n",
            "Normalized Matrix:\n",
            "[[0.00319379 0.00762294 0.02949214 0.02447301 0.03104424]\n",
            " [0.04003469 0.03778772 0.0779844  0.05683506 0.03349782]\n",
            " [0.00090581 0.05890234 0.08052572 0.07491556 0.07441812]\n",
            " [0.03444476 0.03762415 0.00601518 0.01677194 0.07040754]\n",
            " [0.04938165 0.01129604 0.07158796 0.04199756 0.02883988]]\n"
          ]
        }
      ]
    },
    {
      "cell_type": "markdown",
      "source": [
        " Create a custom dtype that describes a color as four unsigned bytes (RGBA)"
      ],
      "metadata": {
        "id": "QSRdsvy00DS0"
      }
    },
    {
      "cell_type": "code",
      "source": [
        "import numpy as np\n",
        "\n",
        "# Define custom dtype for RGBA color\n",
        "color_dtype = np.dtype([('R', np.uint8), ('G', np.uint8), ('B', np.uint8), ('A', np.uint8)])\n",
        "\n",
        "# Example RGBA color values\n",
        "red = (255, 0, 0, 255)\n",
        "green = (0, 255, 0, 255)\n",
        "blue = (0, 0, 255, 255)\n",
        "\n",
        "# Create arrays of custom dtype\n",
        "red_color = np.array(red, dtype=color_dtype)\n",
        "green_color = np.array(green, dtype=color_dtype)\n",
        "blue_color = np.array(blue, dtype=color_dtype)\n",
        "\n",
        "print(\"Red color (RGBA):\", red_color)\n",
        "print(\"Green color (RGBA):\", green_color)\n",
        "print(\"Blue color (RGBA):\", blue_color)\n"
      ],
      "metadata": {
        "colab": {
          "base_uri": "https://localhost:8080/"
        },
        "id": "wWU2nnwf0AYg",
        "outputId": "d666ca31-40da-4b71-d853-7ee0fa3469ea"
      },
      "execution_count": 4,
      "outputs": [
        {
          "output_type": "stream",
          "name": "stdout",
          "text": [
            "Red color (RGBA): (255, 0, 0, 255)\n",
            "Green color (RGBA): (0, 255, 0, 255)\n",
            "Blue color (RGBA): (0, 0, 255, 255)\n"
          ]
        }
      ]
    },
    {
      "cell_type": "markdown",
      "source": [
        "Multiply a 5x3 matrix by a 3x2 matrix (real matrix product)"
      ],
      "metadata": {
        "id": "9t1zvTEq1biD"
      }
    },
    {
      "cell_type": "code",
      "source": [
        "import numpy as np\n",
        "\n",
        "# Create a 5x3 matrix\n",
        "matrix_a = np.random.rand(5, 3)\n",
        "\n",
        "# Create a 3x2 matrix\n",
        "matrix_b = np.random.rand(3, 2)\n",
        "\n",
        "# Multiply the matrices (real matrix product)\n",
        "result_matrix = np.dot(matrix_a, matrix_b)\n",
        "\n",
        "# Print the result\n",
        "print(\"Matrix A (5x3):\")\n",
        "print(matrix_a)\n",
        "print(\"\\nMatrix B (3x2):\")\n",
        "print(matrix_b)\n",
        "print(\"\\nResult Matrix (5x2):\")\n",
        "print(result_matrix)\n"
      ],
      "metadata": {
        "colab": {
          "base_uri": "https://localhost:8080/"
        },
        "id": "7sCdQvhr1QWA",
        "outputId": "0183ecc5-abcc-4fd4-eba6-f708cfcdbf6e"
      },
      "execution_count": 6,
      "outputs": [
        {
          "output_type": "stream",
          "name": "stdout",
          "text": [
            "Matrix A (5x3):\n",
            "[[0.46228444 0.15870012 0.38565156]\n",
            " [0.84318321 0.91811633 0.12062618]\n",
            " [0.1524753  0.23621475 0.9495606 ]\n",
            " [0.9194146  0.2711134  0.12819473]\n",
            " [0.7666195  0.19532723 0.16767927]]\n",
            "\n",
            "Matrix B (3x2):\n",
            "[[0.8037118  0.5088584 ]\n",
            " [0.20842748 0.5721792 ]\n",
            " [0.7307525  0.48120294]]\n",
            "\n",
            "Result Matrix (5x2):\n",
            "[[0.68643676 0.51161889]\n",
            " [0.95718484 1.01243361]\n",
            " [0.86567363 0.66967686]\n",
            " [0.88913046 0.68466498]\n",
            " [0.77938475 0.58255071]]\n"
          ]
        }
      ]
    },
    {
      "cell_type": "markdown",
      "source": [
        "Given a 1D array, negate all elements which are between 3 and 8, in place."
      ],
      "metadata": {
        "id": "D2EVdJxG3j2T"
      }
    },
    {
      "cell_type": "code",
      "source": [
        "import numpy as np\n",
        "\n",
        "# Create a 1D array\n",
        "arr = np.array([1, 4, 6, 3, 9, 2, 7, 5, 8])\n",
        "\n",
        "# Negate elements between 3 and 8 (inclusive) in place\n",
        "arr[(arr >= 3) & (arr <= 8)] *= -1\n",
        "\n",
        "# Print the modified array\n",
        "print(\"Modified Array:\")\n",
        "print(arr)\n"
      ],
      "metadata": {
        "colab": {
          "base_uri": "https://localhost:8080/"
        },
        "id": "V7oJu5qV3ZNV",
        "outputId": "e2d4ed9e-9194-41e7-a1b6-044280f0831b"
      },
      "execution_count": 7,
      "outputs": [
        {
          "output_type": "stream",
          "name": "stdout",
          "text": [
            "Modified Array:\n",
            "[ 1 -4 -6 -3  9  2 -7 -5 -8]\n"
          ]
        }
      ]
    },
    {
      "cell_type": "markdown",
      "source": [
        "whats the output"
      ],
      "metadata": {
        "id": "O9tyVZBX5Okp"
      }
    },
    {
      "cell_type": "code",
      "source": [
        "# Author: Jake VanderPlas\n",
        "\n",
        "print(sum(range(5),-1))\n",
        "from numpy import *\n",
        "print(sum(range(5),-1))"
      ],
      "metadata": {
        "colab": {
          "base_uri": "https://localhost:8080/"
        },
        "id": "tyzZORnh5HSV",
        "outputId": "f7e9f4a0-2ee3-42e9-c2ef-265901ecb730"
      },
      "execution_count": 8,
      "outputs": [
        {
          "output_type": "stream",
          "name": "stdout",
          "text": [
            "9\n",
            "10\n"
          ]
        }
      ]
    },
    {
      "cell_type": "markdown",
      "source": [
        " Consider an integer vector Z, which of these expressions are legal? (★☆☆)\n",
        "Z**Z\n",
        "2 << Z >> 2\n",
        "Z <- Z\n",
        "1j*Z\n",
        "Z/1/1\n",
        "Z<Z>Z"
      ],
      "metadata": {
        "id": "rnpxn-xmQRG9"
      }
    },
    {
      "cell_type": "markdown",
      "source": [
        "\n",
        "Z**Z\n",
        "2 << Z >> 2\n",
        "Z <- Z\n",
        "1j*Z\n",
        "Z/1/1\n",
        "**bold text**"
      ],
      "metadata": {
        "id": "Ftse7SiSQtir"
      }
    },
    {
      "cell_type": "markdown",
      "source": [
        " What are the result of the following expressions?\n"
      ],
      "metadata": {
        "id": "jmUU7dYhQ3Vj"
      }
    },
    {
      "cell_type": "code",
      "source": [
        "np.array(0) / np.array(0)\n",
        "np.array(0) // np.array(0)\n",
        "np.array([np.nan]).astype(int).astype(float)"
      ],
      "metadata": {
        "colab": {
          "base_uri": "https://localhost:8080/"
        },
        "id": "uXcw2MqcP4gk",
        "outputId": "77a83933-a7f3-4f7e-d499-83f4699b6649"
      },
      "execution_count": 11,
      "outputs": [
        {
          "output_type": "stream",
          "name": "stderr",
          "text": [
            "<ipython-input-11-cd809174da5d>:1: RuntimeWarning: invalid value encountered in divide\n",
            "  np.array(0) / np.array(0)\n",
            "<ipython-input-11-cd809174da5d>:2: RuntimeWarning: divide by zero encountered in floor_divide\n",
            "  np.array(0) // np.array(0)\n",
            "<ipython-input-11-cd809174da5d>:3: RuntimeWarning: invalid value encountered in cast\n",
            "  np.array([np.nan]).astype(int).astype(float)\n"
          ]
        },
        {
          "output_type": "execute_result",
          "data": {
            "text/plain": [
              "array([-9.22337204e+18])"
            ]
          },
          "metadata": {},
          "execution_count": 11
        }
      ]
    },
    {
      "cell_type": "markdown",
      "source": [
        "How to round away from zero a float array ?"
      ],
      "metadata": {
        "id": "JmQiGnu0RV3P"
      }
    },
    {
      "cell_type": "code",
      "source": [
        "import numpy as np\n",
        "\n",
        "# Create a float array\n",
        "float_array = np.array([-2.3, 1.5, -0.7, 3.2, -4.8])\n",
        "\n",
        "# Round away from zero (towards positive infinity)\n",
        "rounded_array = np.ceil(float_array)\n",
        "\n",
        "# Print the original and rounded arrays\n",
        "print(\"Original Float Array:\")\n",
        "print(float_array)\n",
        "print(\"\\nRounded Array (away from zero):\")\n",
        "print(rounded_array)\n"
      ],
      "metadata": {
        "colab": {
          "base_uri": "https://localhost:8080/"
        },
        "id": "aFuvOxXiRNGm",
        "outputId": "a67c4408-56be-44d7-e430-c21c5aeff426"
      },
      "execution_count": 12,
      "outputs": [
        {
          "output_type": "stream",
          "name": "stdout",
          "text": [
            "Original Float Array:\n",
            "[-2.3  1.5 -0.7  3.2 -4.8]\n",
            "\n",
            "Rounded Array (away from zero):\n",
            "[-2.  2. -0.  4. -4.]\n"
          ]
        }
      ]
    },
    {
      "cell_type": "markdown",
      "source": [
        " How to find common values between two arrays?"
      ],
      "metadata": {
        "id": "MylcrwdOR-QE"
      }
    },
    {
      "cell_type": "code",
      "source": [
        "import numpy as np\n",
        "\n",
        "array1 = np.array([1, 2, 3, 4, 5])\n",
        "array2 = np.array([3, 5, 7, 9])\n",
        "\n",
        "common_elements = np.intersect1d(array1, array2)\n",
        "print(common_elements)\n"
      ],
      "metadata": {
        "colab": {
          "base_uri": "https://localhost:8080/"
        },
        "id": "WCV4ap8gR4Ep",
        "outputId": "9b444fb7-0e97-4200-b7df-8ea48399ca6e"
      },
      "execution_count": 13,
      "outputs": [
        {
          "output_type": "stream",
          "name": "stdout",
          "text": [
            "[3 5]\n"
          ]
        }
      ]
    },
    {
      "cell_type": "code",
      "source": [],
      "metadata": {
        "id": "RHCxXlGxSPsd"
      },
      "execution_count": null,
      "outputs": []
    }
  ]
}