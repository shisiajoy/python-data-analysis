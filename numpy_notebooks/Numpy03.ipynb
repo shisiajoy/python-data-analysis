{
  "nbformat": 4,
  "nbformat_minor": 0,
  "metadata": {
    "colab": {
      "provenance": [],
      "authorship_tag": "ABX9TyPDQpjLGlI+PogGvfCvLvo9",
      "include_colab_link": true
    },
    "kernelspec": {
      "name": "python3",
      "display_name": "Python 3"
    },
    "language_info": {
      "name": "python"
    }
  },
  "cells": [
    {
      "cell_type": "markdown",
      "metadata": {
        "id": "view-in-github",
        "colab_type": "text"
      },
      "source": [
        "<a href=\"https://colab.research.google.com/github/Shisiajoy/PYTHON-DATA-ANALYSIS/blob/main/Numpy03.ipynb\" target=\"_parent\"><img src=\"https://colab.research.google.com/assets/colab-badge.svg\" alt=\"Open In Colab\"/></a>"
      ]
    },
    {
      "cell_type": "markdown",
      "source": [
        "How to ignore all numpy warnings (not recommended)?"
      ],
      "metadata": {
        "id": "7qL2mkSBZFBB"
      }
    },
    {
      "cell_type": "code",
      "source": [
        "import numpy as np\n",
        "\n",
        "# Ignore all NumPy warnings\n",
        "np.seterr(all=\"ignore\")\n",
        "\n",
        "# Example usage (suppressing division by zero warning)\n",
        "array1 = np.array([1.0, 2.0, 3.0])\n",
        "array2 = np.array([0.0, 0.0, 0.0])\n",
        "\n",
        "result = array1 / array2\n",
        "print(\"Result (division by zero suppressed):\", result)\n"
      ],
      "metadata": {
        "colab": {
          "base_uri": "https://localhost:8080/"
        },
        "id": "P-Q0C3U3ZGvX",
        "outputId": "d9bc0872-3c1c-4c07-e03c-0de68f313b95"
      },
      "execution_count": 1,
      "outputs": [
        {
          "output_type": "stream",
          "name": "stdout",
          "text": [
            "Result (division by zero suppressed): [inf inf inf]\n"
          ]
        }
      ]
    },
    {
      "cell_type": "markdown",
      "source": [
        "Is the following expressions true? (★☆☆)\n",
        "np.sqrt(-1) == np.emath.sqrt(-1)"
      ],
      "metadata": {
        "id": "cwuBmANAZeFw"
      }
    },
    {
      "cell_type": "code",
      "source": [
        "np.sqrt(-1) == np.emath.sqrt(-1)"
      ],
      "metadata": {
        "colab": {
          "base_uri": "https://localhost:8080/"
        },
        "id": "ZCWKB4_zZUK7",
        "outputId": "731efce1-a847-45b1-9f88-a12671a4270c"
      },
      "execution_count": 2,
      "outputs": [
        {
          "output_type": "execute_result",
          "data": {
            "text/plain": [
              "False"
            ]
          },
          "metadata": {},
          "execution_count": 2
        }
      ]
    },
    {
      "cell_type": "markdown",
      "source": [
        "How to get the dates of yesterday, today and tomorrow?"
      ],
      "metadata": {
        "id": "GlJWPpjXZkb2"
      }
    },
    {
      "cell_type": "code",
      "source": [
        "import datetime\n",
        "\n",
        "# Get today's date\n",
        "today = datetime.date.today()\n",
        "\n",
        "# Get yesterday's date\n",
        "yesterday = today - datetime.timedelta(days=1)\n",
        "\n",
        "# Get tomorrow's date\n",
        "tomorrow = today + datetime.timedelta(days=1)\n",
        "\n",
        "# Print the dates\n",
        "print(\"Yesterday:\", yesterday)\n",
        "print(\"Today:\", today)\n",
        "print(\"Tomorrow:\", tomorrow)\n"
      ],
      "metadata": {
        "colab": {
          "base_uri": "https://localhost:8080/"
        },
        "id": "0fXasNUHZhGd",
        "outputId": "6f3bc682-edf6-444c-a5e2-cbe7ee038e99"
      },
      "execution_count": 3,
      "outputs": [
        {
          "output_type": "stream",
          "name": "stdout",
          "text": [
            "Yesterday: 2024-03-25\n",
            "Today: 2024-03-26\n",
            "Tomorrow: 2024-03-27\n"
          ]
        }
      ]
    },
    {
      "cell_type": "markdown",
      "source": [
        " How to get all the dates corresponding to the month of July 2016?"
      ],
      "metadata": {
        "id": "CM8cQ78EaBvz"
      }
    },
    {
      "cell_type": "code",
      "source": [
        "import numpy as np\n",
        "\n",
        "# Get all dates for July 2016\n",
        "dates_july_2016 = np.arange('2016-07-01', '2016-08-01', dtype='datetime64[D]')\n",
        "\n",
        "# Print the dates\n",
        "print(\"Dates for July 2016:\")\n",
        "print(dates_july_2016)\n"
      ],
      "metadata": {
        "colab": {
          "base_uri": "https://localhost:8080/"
        },
        "id": "QKb9RtJEZ_6C",
        "outputId": "f4d07bed-6d48-4c89-c1d4-7db9e80ce03a"
      },
      "execution_count": 4,
      "outputs": [
        {
          "output_type": "stream",
          "name": "stdout",
          "text": [
            "Dates for July 2016:\n",
            "['2016-07-01' '2016-07-02' '2016-07-03' '2016-07-04' '2016-07-05'\n",
            " '2016-07-06' '2016-07-07' '2016-07-08' '2016-07-09' '2016-07-10'\n",
            " '2016-07-11' '2016-07-12' '2016-07-13' '2016-07-14' '2016-07-15'\n",
            " '2016-07-16' '2016-07-17' '2016-07-18' '2016-07-19' '2016-07-20'\n",
            " '2016-07-21' '2016-07-22' '2016-07-23' '2016-07-24' '2016-07-25'\n",
            " '2016-07-26' '2016-07-27' '2016-07-28' '2016-07-29' '2016-07-30'\n",
            " '2016-07-31']\n"
          ]
        }
      ]
    },
    {
      "cell_type": "markdown",
      "source": [
        "How to compute ((A+B)*(-A/2)) in place (without copy)?"
      ],
      "metadata": {
        "id": "nzIp7RYNawEV"
      }
    },
    {
      "cell_type": "code",
      "source": [
        "import numpy as np\n",
        "\n",
        "# Create arrays A and B\n",
        "A = np.array([1, 2, 3], dtype=np.float64)  # Convert A to float64\n",
        "B = np.array([4, 5, 6])\n",
        "\n",
        "# Compute ((A+B)*(-A/2)) in place\n",
        "result = (A + B) * (-A / 2)\n",
        "\n",
        "# Print the result\n",
        "print(\"Result (corrected):\", result)\n"
      ],
      "metadata": {
        "colab": {
          "base_uri": "https://localhost:8080/"
        },
        "id": "IAm3B4RbbLJN",
        "outputId": "d8858c4d-d49f-440c-8ed5-621cabdcffd5"
      },
      "execution_count": 6,
      "outputs": [
        {
          "output_type": "stream",
          "name": "stdout",
          "text": [
            "Result (corrected): [ -2.5  -7.  -13.5]\n"
          ]
        }
      ]
    },
    {
      "cell_type": "markdown",
      "source": [
        " Extract the integer part of a random array of positive numbers using 4 different methods"
      ],
      "metadata": {
        "id": "PTuwREH2bgwk"
      }
    },
    {
      "cell_type": "markdown",
      "source": [
        "\n",
        "\n",
        "  ***Method 1: Using np.floor()***\n",
        "\n"
      ],
      "metadata": {
        "id": "e-3AuULScK0-"
      }
    },
    {
      "cell_type": "code",
      "source": [
        "import numpy as np\n",
        "\n",
        "# Create a random array of positive numbers\n",
        "random_array = np.random.rand(5) * 10  # Scale to positive range\n",
        "\n",
        "# Extract integer part using np.floor()\n",
        "integer_part_floor = np.floor(random_array)\n",
        "\n",
        "print(\"Integer Part (Method 1 - np.floor()):\")\n",
        "print(integer_part_floor)\n"
      ],
      "metadata": {
        "colab": {
          "base_uri": "https://localhost:8080/"
        },
        "id": "HFvgDrkRbdTR",
        "outputId": "a1a778cb-1b07-47a1-c397-eaf0fcfe9da2"
      },
      "execution_count": 7,
      "outputs": [
        {
          "output_type": "stream",
          "name": "stdout",
          "text": [
            "Integer Part (Method 1 - np.floor()):\n",
            "[2. 4. 3. 8. 2.]\n"
          ]
        }
      ]
    },
    {
      "cell_type": "markdown",
      "source": [
        " ***Method 2: Using np.trunc()***"
      ],
      "metadata": {
        "id": "gdfZ7HOnccMm"
      }
    },
    {
      "cell_type": "code",
      "source": [
        "# Extract integer part using np.trunc()\n",
        "integer_part_trunc = np.trunc(random_array)\n",
        "\n",
        "print(\"Integer Part (Method 2 - np.trunc()):\")\n",
        "print(integer_part_trunc)\n"
      ],
      "metadata": {
        "colab": {
          "base_uri": "https://localhost:8080/"
        },
        "id": "J3gxuf61cW5w",
        "outputId": "a51939ea-9fa8-4ec2-be31-68beb04d0ee9"
      },
      "execution_count": 8,
      "outputs": [
        {
          "output_type": "stream",
          "name": "stdout",
          "text": [
            "Integer Part (Method 2 - np.trunc()):\n",
            "[2. 4. 3. 8. 2.]\n"
          ]
        }
      ]
    },
    {
      "cell_type": "markdown",
      "source": [
        "***Method 3: Using astype(int)***\n",
        "\n",
        "\n"
      ],
      "metadata": {
        "id": "Mle198eOc43T"
      }
    },
    {
      "cell_type": "code",
      "source": [
        "# Extract integer part using np.astype(int)\n",
        "integer_part_cast = random_array.astype(int)\n",
        "\n",
        "print(\"Integer Part (Method 3 - np.astype(int)):\")\n",
        "print(integer_part_cast)\n"
      ],
      "metadata": {
        "colab": {
          "base_uri": "https://localhost:8080/"
        },
        "id": "vdoRCrldc3q4",
        "outputId": "da5fef80-00ea-4394-8431-e2400c58f447"
      },
      "execution_count": 9,
      "outputs": [
        {
          "output_type": "stream",
          "name": "stdout",
          "text": [
            "Integer Part (Method 3 - np.astype(int)):\n",
            "[2 4 3 8 2]\n"
          ]
        }
      ]
    },
    {
      "cell_type": "markdown",
      "source": [
        "***Method 4: Using np.around(decimals=0)***"
      ],
      "metadata": {
        "id": "iR0AUGwpdZfr"
      }
    },
    {
      "cell_type": "code",
      "source": [
        "# Extract integer part using np.around(decimals=0)\n",
        "integer_part_round = np.around(random_array, decimals=0)\n",
        "\n",
        "print(\"Integer Part (Method 4 - np.around(decimals=0)):\")\n",
        "print(integer_part_round)\n"
      ],
      "metadata": {
        "colab": {
          "base_uri": "https://localhost:8080/"
        },
        "id": "5j9LPn_udYGz",
        "outputId": "133f6766-d4ca-4358-ec38-09f9f58bc590"
      },
      "execution_count": 10,
      "outputs": [
        {
          "output_type": "stream",
          "name": "stdout",
          "text": [
            "Integer Part (Method 4 - np.around(decimals=0)):\n",
            "[2. 4. 4. 8. 3.]\n"
          ]
        }
      ]
    },
    {
      "cell_type": "markdown",
      "source": [
        "Create a 5x5 matrix with row values ranging from 0 to 4"
      ],
      "metadata": {
        "id": "biTtAY8xdoRY"
      }
    },
    {
      "cell_type": "code",
      "source": [
        "import numpy as np\n",
        "\n",
        "# Create a 5x5 matrix with row values ranging from 0 to 4\n",
        "matrix = np.tile(np.arange(5), (5, 1))\n",
        "\n",
        "# Print the matrix\n",
        "print(\"5x5 Matrix:\")\n",
        "print(matrix)\n"
      ],
      "metadata": {
        "colab": {
          "base_uri": "https://localhost:8080/"
        },
        "id": "bQB8WolPdsqo",
        "outputId": "85a35c3e-ee22-4160-c086-22bd80273243"
      },
      "execution_count": 11,
      "outputs": [
        {
          "output_type": "stream",
          "name": "stdout",
          "text": [
            "5x5 Matrix:\n",
            "[[0 1 2 3 4]\n",
            " [0 1 2 3 4]\n",
            " [0 1 2 3 4]\n",
            " [0 1 2 3 4]\n",
            " [0 1 2 3 4]]\n"
          ]
        }
      ]
    },
    {
      "cell_type": "markdown",
      "source": [
        "Consider a generator function that generates 10 integers and use it to build an array"
      ],
      "metadata": {
        "id": "T6lWU4eld4Gp"
      }
    },
    {
      "cell_type": "code",
      "source": [
        "import numpy as np\n",
        "\n",
        "# Define a generator function that yields 10 integers\n",
        "def generate_integers():\n",
        "    for i in range(10):\n",
        "        yield i\n",
        "\n",
        "# Create an array from the generator function\n",
        "array_from_generator = np.fromiter(generate_integers(), dtype=int)\n",
        "\n",
        "# Print the array\n",
        "print(\"Array from Generator Function:\")\n",
        "print(array_from_generator)\n"
      ],
      "metadata": {
        "colab": {
          "base_uri": "https://localhost:8080/"
        },
        "id": "25MwaC13dmnY",
        "outputId": "d57d1134-c78c-4dbc-d2e0-d31aad3b124c"
      },
      "execution_count": 12,
      "outputs": [
        {
          "output_type": "stream",
          "name": "stdout",
          "text": [
            "Array from Generator Function:\n",
            "[0 1 2 3 4 5 6 7 8 9]\n"
          ]
        }
      ]
    },
    {
      "cell_type": "markdown",
      "source": [
        " Create a vector of size 10 with values ranging from 0 to 1, both excluded"
      ],
      "metadata": {
        "id": "RPkmNqAJeOfe"
      }
    },
    {
      "cell_type": "code",
      "source": [
        "import numpy as np\n",
        "\n",
        "# Create a vector of size 10 with values ranging from 0 to 1 (both excluded)\n",
        "vector = np.linspace(0, 1, num=10, endpoint=False)\n",
        "\n",
        "# Print the vector\n",
        "print(\"Vector with values ranging from 0 to 1 (both excluded):\")\n",
        "print(vector)\n"
      ],
      "metadata": {
        "colab": {
          "base_uri": "https://localhost:8080/"
        },
        "id": "xQwpP4xFeUaX",
        "outputId": "3d14b1e0-05a9-471a-a277-f127ac255603"
      },
      "execution_count": 13,
      "outputs": [
        {
          "output_type": "stream",
          "name": "stdout",
          "text": [
            "Vector with values ranging from 0 to 1 (both excluded):\n",
            "[0.  0.1 0.2 0.3 0.4 0.5 0.6 0.7 0.8 0.9]\n"
          ]
        }
      ]
    },
    {
      "cell_type": "markdown",
      "source": [
        " Create a random vector of size 10 and sort it"
      ],
      "metadata": {
        "id": "Alj2fEEVewOQ"
      }
    },
    {
      "cell_type": "code",
      "source": [
        "import numpy as np\n",
        "\n",
        "# Create a random vector of size 10\n",
        "random_vector = np.random.rand(10)\n",
        "\n",
        "# Sort the vector in ascending order\n",
        "sorted_vector = np.sort(random_vector)\n",
        "\n",
        "# Print the sorted vector\n",
        "print(\"Sorted Vector:\")\n",
        "print(sorted_vector)\n"
      ],
      "metadata": {
        "colab": {
          "base_uri": "https://localhost:8080/"
        },
        "id": "a1EWQPyLeNU5",
        "outputId": "c813eda7-302d-461d-c6c4-b7ea8f0b4760"
      },
      "execution_count": 14,
      "outputs": [
        {
          "output_type": "stream",
          "name": "stdout",
          "text": [
            "Sorted Vector:\n",
            "[0.08510997 0.19604658 0.37585909 0.40917408 0.43784314 0.50431195\n",
            " 0.53538419 0.57153754 0.73769341 0.74221493]\n"
          ]
        }
      ]
    },
    {
      "cell_type": "markdown",
      "source": [
        "How to sum a small array faster than np.sum?"
      ],
      "metadata": {
        "id": "g81MMqJIfE0y"
      }
    },
    {
      "cell_type": "code",
      "source": [
        "import numpy as np\n",
        "\n",
        "# Create a small array\n",
        "small_array = np.array([1, 2, 3, 4, 5])\n",
        "\n",
        "# Sum using Python's built-in sum() function\n",
        "result = sum(small_array)\n",
        "\n",
        "print(\"Sum using sum():\", result)\n"
      ],
      "metadata": {
        "colab": {
          "base_uri": "https://localhost:8080/"
        },
        "id": "l98wfHMxe-Eg",
        "outputId": "0b93d565-5253-4c4f-c48a-ea75ed82c4f7"
      },
      "execution_count": 15,
      "outputs": [
        {
          "output_type": "stream",
          "name": "stdout",
          "text": [
            "Sum using sum(): 15\n"
          ]
        }
      ]
    },
    {
      "cell_type": "markdown",
      "source": [
        "Consider two random array A and B, check if they are equal"
      ],
      "metadata": {
        "id": "oOThljdbfS7o"
      }
    },
    {
      "cell_type": "code",
      "source": [
        "import numpy as np\n",
        "\n",
        "# Create two random arrays A and B\n",
        "A = np.random.rand(5)\n",
        "B = np.random.rand(5)\n",
        "\n",
        "# Check if A and B are equal\n",
        "are_equal = np.array_equal(A, B)\n",
        "\n",
        "if are_equal:\n",
        "    print(\"Arrays A and B are equal.\")\n",
        "else:\n",
        "    print(\"Arrays A and B are not equal.\")\n"
      ],
      "metadata": {
        "colab": {
          "base_uri": "https://localhost:8080/"
        },
        "id": "8AvmA6s9fRZd",
        "outputId": "0511f62f-7fe1-41a9-a3dd-edf123e4fa98"
      },
      "execution_count": 16,
      "outputs": [
        {
          "output_type": "stream",
          "name": "stdout",
          "text": [
            "Arrays A and B are not equal.\n"
          ]
        }
      ]
    },
    {
      "cell_type": "markdown",
      "source": [
        " Make an array immutable (read-only)"
      ],
      "metadata": {
        "id": "01tk4Kslfndk"
      }
    },
    {
      "cell_type": "code",
      "source": [
        "import numpy as np\n",
        "\n",
        "# Create a mutable (writable) array\n",
        "mutable_array = np.array([1, 2, 3, 4, 5])\n",
        "\n",
        "# Make the array read-only (immutable)\n",
        "immutable_array = np.array(mutable_array, copy=False)\n",
        "\n",
        "# Try to modify the immutable array (should raise an error)\n",
        "try:\n",
        "    immutable_array[0] = 10\n",
        "except ValueError:\n",
        "    print(\"Error: Cannot modify the immutable array.\")\n",
        "\n",
        "# Print the original mutable array and the immutable array\n",
        "print(\"Mutable Array (original):\", mutable_array)\n",
        "print(\"Immutable Array:\", immutable_array)\n"
      ],
      "metadata": {
        "colab": {
          "base_uri": "https://localhost:8080/"
        },
        "id": "7Y1PAiw9fip-",
        "outputId": "7599759a-2b1d-4dff-ffd6-21bd1f2c13d0"
      },
      "execution_count": 17,
      "outputs": [
        {
          "output_type": "stream",
          "name": "stdout",
          "text": [
            "Mutable Array (original): [10  2  3  4  5]\n",
            "Immutable Array: [10  2  3  4  5]\n"
          ]
        }
      ]
    },
    {
      "cell_type": "markdown",
      "source": [
        "Consider a random 10x2 matrix representing cartesian coordinates, convert them to polar coordinates"
      ],
      "metadata": {
        "id": "Le3N5qCEgCCD"
      }
    },
    {
      "cell_type": "code",
      "source": [
        "import numpy as np\n",
        "\n",
        "# Create a random 10x2 matrix representing Cartesian coordinates\n",
        "cartesian_matrix = np.random.rand(10, 2)\n",
        "\n",
        "# Convert Cartesian coordinates to polar coordinates\n",
        "def cartesian_to_polar(x, y):\n",
        "    rho = np.sqrt(x**2 + y**2)\n",
        "    phi = np.arctan2(y, x)  # Returns angle in radians\n",
        "    return rho, phi\n",
        "\n",
        "# Apply the conversion to each row in the matrix\n",
        "polar_matrix = np.apply_along_axis(lambda row: cartesian_to_polar(row[0], row[1]), axis=1, arr=cartesian_matrix)\n",
        "\n",
        "# Print the original Cartesian matrix and the polar matrix\n",
        "print(\"Cartesian Coordinates (10x2 matrix):\")\n",
        "print(cartesian_matrix)\n",
        "print(\"\\nPolar Coordinates (rho, phi):\")\n",
        "print(polar_matrix)\n"
      ],
      "metadata": {
        "colab": {
          "base_uri": "https://localhost:8080/"
        },
        "id": "Tli03QdVgDNL",
        "outputId": "16f5a8cc-effb-4425-9583-85ee32499dd2"
      },
      "execution_count": 18,
      "outputs": [
        {
          "output_type": "stream",
          "name": "stdout",
          "text": [
            "Cartesian Coordinates (10x2 matrix):\n",
            "[[0.4320724  0.34696095]\n",
            " [0.9798421  0.83626772]\n",
            " [0.6966714  0.82073338]\n",
            " [0.98671803 0.44842736]\n",
            " [0.82614052 0.43105297]\n",
            " [0.14154379 0.75651215]\n",
            " [0.59408477 0.48924377]\n",
            " [0.8089608  0.06222559]\n",
            " [0.25525362 0.69114082]\n",
            " [0.76275576 0.63982395]]\n",
            "\n",
            "Polar Coordinates (rho, phi):\n",
            "[[0.55413758 0.67657713]\n",
            " [1.2881903  0.70650624]\n",
            " [1.07654741 0.86697603]\n",
            " [1.08383558 0.42655959]\n",
            " [0.93183412 0.48090929]\n",
            " [0.76963971 1.38583436]\n",
            " [0.76960781 0.68892187]\n",
            " [0.81135047 0.07676924]\n",
            " [0.73677    1.21701275]\n",
            " [0.99557574 0.69797464]]\n"
          ]
        }
      ]
    },
    {
      "cell_type": "markdown",
      "source": [
        " Create random vector of size 10 and replace the maximum value by 0"
      ],
      "metadata": {
        "id": "4SIuE4eigSmb"
      }
    },
    {
      "cell_type": "code",
      "source": [
        "import numpy as np\n",
        "\n",
        "# Create a random vector of size 10\n",
        "random_vector = np.random.rand(10)\n",
        "\n",
        "# Find the maximum value in the vector\n",
        "max_value = np.max(random_vector)\n",
        "\n",
        "# Replace the maximum value with 0\n",
        "random_vector[random_vector == max_value] = 0\n",
        "\n",
        "# Print the modified vector\n",
        "print(\"Random Vector with Maximum Value Replaced:\")\n",
        "print(random_vector)\n"
      ],
      "metadata": {
        "colab": {
          "base_uri": "https://localhost:8080/"
        },
        "id": "clpGE6GAf0JJ",
        "outputId": "fa9ae370-c76e-4613-c30c-ebf09f8d19c7"
      },
      "execution_count": 19,
      "outputs": [
        {
          "output_type": "stream",
          "name": "stdout",
          "text": [
            "Random Vector with Maximum Value Replaced:\n",
            "[0.05807231 0.58229962 0.69145723 0.70807804 0.10010377 0.72241368\n",
            " 0.85150233 0.         0.48564594 0.85497049]\n"
          ]
        }
      ]
    },
    {
      "cell_type": "code",
      "source": [],
      "metadata": {
        "id": "E6GK_RcJgjDI"
      },
      "execution_count": null,
      "outputs": []
    }
  ]
}